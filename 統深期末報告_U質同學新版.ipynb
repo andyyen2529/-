{
 "cells": [
  {
   "cell_type": "markdown",
   "metadata": {
    "id": "4QS8JfY4z0e4"
   },
   "source": [
    "# 統計學習與深度學習期末報告 第四組 U質同學"
   ]
  },
  {
   "cell_type": "markdown",
   "metadata": {},
   "source": [
    "### 組員姓名與學號\n",
    "\n",
    "R09725005 楊雅汝 \n",
    "\n",
    "R09725008 林聖典 \n",
    "\n",
    "R09725009 顏煥勳 \n",
    "\n",
    "R09725011 陳宇鑫 \n",
    "\n",
    "R09725022 陳君儒 \n",
    "\n",
    "R09725052 余俊廷"
   ]
  },
  {
   "cell_type": "markdown",
   "metadata": {
    "id": "yYObdBPwb2jh"
   },
   "source": [
    "## 研究目標：雙北市租金預測模型"
   ]
  },
  {
   "cell_type": "markdown",
   "metadata": {
    "id": "2fCmz9lhpyRp"
   },
   "source": [
    "## 一、讀取租屋資料"
   ]
  },
  {
   "cell_type": "markdown",
   "metadata": {
    "id": "xCLSBumabBXM"
   },
   "source": [
    "#### 匯入必要的套件"
   ]
  },
  {
   "cell_type": "code",
   "execution_count": null,
   "metadata": {
    "id": "yxz5BGc4pd-9"
   },
   "outputs": [],
   "source": [
    "%matplotlib inline\n",
    "import time\n",
    "import os\n",
    "import numpy as np\n",
    "import pandas as pd\n",
    "import matplotlib.pyplot as plt"
   ]
  },
  {
   "cell_type": "markdown",
   "metadata": {
    "id": "mrNzpBWRniib"
   },
   "source": [
    "#### 避免顯示科學記號的設定"
   ]
  },
  {
   "cell_type": "code",
   "execution_count": null,
   "metadata": {
    "id": "_19mD5wGneJg"
   },
   "outputs": [],
   "source": [
    "pd.set_option('display.float_format',lambda x : '%.2f' % x)\n",
    "np.set_printoptions(suppress=True)"
   ]
  },
  {
   "cell_type": "markdown",
   "metadata": {
    "id": "8ueLBsKqbWw_"
   },
   "source": [
    "#### 從組員(煥勳)的github把**591租屋網雙北民間租屋資料**讀進Google Colab的虛擬機(virtual machine)中"
   ]
  },
  {
   "cell_type": "code",
   "execution_count": null,
   "metadata": {
    "id": "QMsMBEczzS2o"
   },
   "outputs": [],
   "source": [
    "#!git clone https://github.com/andyyen2529/Rent-Prediction-Model-in-Taipei-City.git"
   ]
  },
  {
   "cell_type": "markdown",
   "metadata": {
    "id": "3dd-OX3hc-Pk"
   },
   "source": [
    "#### 先讀取其中一份資料集(臺北_2018Q3)做測試"
   ]
  },
  {
   "cell_type": "code",
   "execution_count": null,
   "metadata": {
    "id": "rJ6WtOCRzTUD"
   },
   "outputs": [],
   "source": [
    "# file_path = './Rent-Prediction-Model-in-Taipei-City/開放台灣民間租屋資料/臺北/'\n",
    "# print(os.listdir(file_path))\n",
    "# df = pd.read_excel(file_path + '2018Q3_taipei.csv.xlsx', index_col=0)\n",
    "# df.head()"
   ]
  },
  {
   "cell_type": "markdown",
   "metadata": {
    "id": "KYCMzG-jsySE"
   },
   "source": [
    "#### 讀取所有591租屋網雙北民間租屋資料，並合併成一個大資料集(這一步需要花上一段時間)"
   ]
  },
  {
   "cell_type": "code",
   "execution_count": null,
   "metadata": {
    "colab": {
     "base_uri": "https://localhost:8080/",
     "height": 918
    },
    "id": "W-aiLmF8s6ov",
    "outputId": "59b1174b-dcdf-4786-fd5f-88bd6875ac7d"
   },
   "outputs": [
    {
     "data": {
      "text/plain": [
       "'\\ndf = df.reset_index()\\ndf\\ndf.head()\\n'"
      ]
     },
     "execution_count": 5,
     "metadata": {
      "tags": []
     },
     "output_type": "execute_result"
    }
   ],
   "source": [
    "### 這個block嘗試在跑所有檔案直接把這段槓掉就是只跑前面的單檔\n",
    "\"\"\"\n",
    "file_path = './Rent-Prediction-Model-in-Taipei-City/開放台灣民間租屋資料/臺北/'\n",
    "df = pd.DataFrame()\n",
    "for file in os.listdir(file_path):\n",
    "    print(file)\n",
    "    current_df = pd.read_excel(file_path + file, index_col=0)\n",
    "    current_df['資料來源'] = file.split('.')[0]\n",
    "    df = df.append(current_df)\n",
    "file_path2 = './Rent-Prediction-Model-in-Taipei-City/開放台灣民間租屋資料/新北/'\n",
    "for file in os.listdir(file_path2):\n",
    "    print(file)\n",
    "    current_df = pd.read_excel(file_path2 + file, index_col=0)\n",
    "    current_df['資料來源'] = file.split('.')[0]\n",
    "    df = df.append(current_df)\n",
    "\n",
    "### 少跑這兩行會快超級多，如果跑出來的結果有多一行，那就再drop index\n",
    "\"\"\"\n",
    "\"\"\"\n",
    "df = df.reset_index()\n",
    "df\n",
    "df.head()\n",
    "\"\"\""
   ]
  },
  {
   "cell_type": "markdown",
   "metadata": {},
   "source": [
    "#### 將數個csv檔合併之後的結果輸出成pickle檔，方便未來讀取"
   ]
  },
  {
   "cell_type": "code",
   "execution_count": null,
   "metadata": {},
   "outputs": [],
   "source": [
    "# df.to_pickle(\"web591\") "
   ]
  },
  {
   "cell_type": "markdown",
   "metadata": {},
   "source": [
    "#### 讀取整理後的pickle檔案"
   ]
  },
  {
   "cell_type": "code",
   "execution_count": null,
   "metadata": {
    "id": "ufmpSFeash57"
   },
   "outputs": [],
   "source": [
    "df = pd.read_pickle(\"web591\")"
   ]
  },
  {
   "cell_type": "markdown",
   "metadata": {
    "id": "yhPoZ2a3x_A4"
   },
   "source": [
    "## 二、資料前處理"
   ]
  },
  {
   "cell_type": "markdown",
   "metadata": {},
   "source": [
    "### 第一階段：針對「資料格式」的處理"
   ]
  },
  {
   "cell_type": "markdown",
   "metadata": {},
   "source": [
    "#### 資料篩選"
   ]
  },
  {
   "cell_type": "code",
   "execution_count": null,
   "metadata": {
    "id": "rP54I3mRK58H"
   },
   "outputs": [],
   "source": [
    "#建物類型選取 0、2、3 （公寓、電梯大樓、華廈），排除透天、工廠農地等\n",
    "df = df.loc[(df['建築類型'] == 0) | (df['建築類型'] == 2) | (df['建築類型'] == 3)]\n",
    "\n",
    "#只選取不重複物件→重複之物件視為乏人問津存有偏差值\n",
    "df = df.loc[df['重複物件數'] == 1]\n",
    "\n",
    "#有一筆雅房的真的太太太太太太太太太怪了所以也人工清除\n",
    "df = df.drop(df[(df['物件類型'] == 3) & (df['月租金'] == 130000)].index)\n",
    "\n",
    "#刪掉只有一筆的坪林\n",
    "df = df.loc[df['鄉鎮市區'] != 1107]"
   ]
  },
  {
   "cell_type": "code",
   "execution_count": null,
   "metadata": {
    "colab": {
     "base_uri": "https://localhost:8080/"
    },
    "id": "AWgiDuBuw9az",
    "outputId": "d3228c07-92c4-4559-e5ba-7dc178a5b5fb"
   },
   "outputs": [
    {
     "data": {
      "text/plain": [
       "count     532592.00\n",
       "mean       23348.55\n",
       "std       195106.92\n",
       "min            1.00\n",
       "25%        10000.00\n",
       "50%        17000.00\n",
       "75%        27500.00\n",
       "max     99999999.00\n",
       "Name: 月租金, dtype: float64"
      ]
     },
     "execution_count": 8,
     "metadata": {
      "tags": []
     },
     "output_type": "execute_result"
    }
   ],
   "source": [
    "df['月租金'].describe()"
   ]
  },
  {
   "cell_type": "code",
   "execution_count": null,
   "metadata": {
    "colab": {
     "base_uri": "https://localhost:8080/"
    },
    "id": "1kOzwrY0ymhz",
    "outputId": "c0b2667a-e12a-49cb-afce-713a3728442f"
   },
   "outputs": [
    {
     "data": {
      "text/plain": [
       "[1,\n",
       " 1,\n",
       " 1,\n",
       " 2,\n",
       " 2,\n",
       " 3,\n",
       " 4,\n",
       " 8,\n",
       " 11,\n",
       " 20,\n",
       " 24,\n",
       " 26,\n",
       " 33,\n",
       " 37,\n",
       " 45,\n",
       " 50,\n",
       " 50,\n",
       " 70,\n",
       " 70,\n",
       " 85,\n",
       " 90,\n",
       " 93,\n",
       " 100,\n",
       " 250,\n",
       " 300,\n",
       " 580]"
      ]
     },
     "execution_count": 9,
     "metadata": {
      "tags": []
     },
     "output_type": "execute_result"
    }
   ],
   "source": [
    "sorted(df['月租金'][df['月租金'] < 1000])"
   ]
  },
  {
   "cell_type": "code",
   "execution_count": null,
   "metadata": {
    "colab": {
     "base_uri": "https://localhost:8080/"
    },
    "id": "b1G6e297y7Ul",
    "outputId": "631ab680-ad7d-4138-f7f9-b6706a8edfba"
   },
   "outputs": [
    {
     "data": {
      "text/plain": [
       "[1100000, 1900000, 99999999, 99999999]"
      ]
     },
     "execution_count": 10,
     "metadata": {
      "tags": []
     },
     "output_type": "execute_result"
    }
   ],
   "source": [
    "sorted(df['月租金'][df['月租金'] > 1000000])"
   ]
  },
  {
   "cell_type": "code",
   "execution_count": null,
   "metadata": {
    "colab": {
     "base_uri": "https://localhost:8080/"
    },
    "id": "DtDBTkg0zhKD",
    "outputId": "f1e2fc65-1f37-4519-c8b1-2004d2e3821e"
   },
   "outputs": [
    {
     "data": {
      "text/plain": [
       "(-561971.6457494219, 608668.750125755)"
      ]
     },
     "execution_count": 11,
     "metadata": {
      "tags": []
     },
     "output_type": "execute_result"
    }
   ],
   "source": [
    "np.mean(df['月租金']) - 3 * np.std(df['月租金']), np.mean(df['月租金']) + 3 * np.std(df['月租金'])"
   ]
  },
  {
   "cell_type": "code",
   "execution_count": null,
   "metadata": {
    "colab": {
     "base_uri": "https://localhost:8080/"
    },
    "id": "fy9S69Gm0GL4",
    "outputId": "9f42dd97-6765-4501-ce6e-f0c9b4468e5e"
   },
   "outputs": [
    {
     "data": {
      "text/plain": [
       "(-16250.0, 53750.0)"
      ]
     },
     "execution_count": 12,
     "metadata": {
      "tags": []
     },
     "output_type": "execute_result"
    }
   ],
   "source": [
    "q1 = np.percentile(df['月租金'], 25)\n",
    "q3 = np.percentile(df['月租金'], 75)\n",
    "iqr = q3 - q1\n",
    "(q1 - 1.5 * iqr, q3 + 1.5 * iqr)"
   ]
  },
  {
   "cell_type": "code",
   "execution_count": null,
   "metadata": {
    "colab": {
     "base_uri": "https://localhost:8080/"
    },
    "id": "QU19RR83uJyC",
    "outputId": "219fed98-ff72-410f-9a6c-05659a3c8af7"
   },
   "outputs": [
    {
     "data": {
      "text/plain": [
       "(530315, 88)"
      ]
     },
     "execution_count": 14,
     "metadata": {
      "tags": []
     },
     "output_type": "execute_result"
    }
   ],
   "source": [
    "target_lower = 1000\n",
    "target_upper = 150000\n",
    "df2 = df[(df['月租金'] >= target_lower) & (df['月租金'] <= target_upper)]\n",
    "df2.shape"
   ]
  },
  {
   "cell_type": "code",
   "execution_count": null,
   "metadata": {
    "id": "veqSt3aK3rc5"
   },
   "outputs": [],
   "source": [
    "features = ['重複物件數','縣市','鄉鎮市區','押金月數','月管理費','需要管理費？','提供車位？','建築類型','物件類型','自報頂加？','所在樓層','建物樓高',\n",
    "            '坪數','陽台數','衛浴數','房數','客廳數','額外費用_電費？','額外費用_水費？','額外費用_瓦斯？','額外費用_網路？','額外費用_第四台？',\n",
    "            '附近有_學校？','附近有_公園？','附近有_百貨公司？','附近有_超商？','附近有_傳統市場？','附近有_夜市？','附近有_醫療機構？','附近的捷運站數',\n",
    "            '附近的公車站數','附近的火車站數','附近的高鐵站數','附近的公共自行車數（實驗中）','有性別限制？','可炊？','可寵？','刊登者類型','提供家具_床？',\n",
    "            '提供家具_桌子？','提供家具_椅子？','提供家具_電視？','提供家具_熱水器？','提供家具_冷氣？','提供家具_沙發？','提供家具_洗衣機？','提供家具_衣櫃？',\n",
    "            '提供家具_冰箱？','提供家具_網路？','提供家具_第四台？','提供家具_天然瓦斯？']\n",
    "\n",
    "df_x = df2[features].copy()\n",
    "df_y = df2['月租金']"
   ]
  },
  {
   "cell_type": "markdown",
   "metadata": {
    "id": "B7SeFUPw5j0o"
   },
   "source": [
    "#### 定義資料前處理的函式\n",
    "\n",
    "以下空值都先當作沒有，因為額外費用房東基本上一定要主動揭露，沒填基本代表沒有  \n",
    "* 額外費用_電費？\n",
    "* 額外費用_水費？\n",
    "* 額外費用_瓦斯？\n",
    "* 額外費用_網路？\n",
    "* 額外費用_第四台？ \n",
    "\n",
    "以下空值都先當作沒有，因為我們假設如果房屋有提供物件或是附近是否有生活機能，這些東西都是優勢，房東基本上一定會主動揭露，沒填基本代表沒有  \n",
    "* 附近有_學校？\n",
    "* 附近有_公園？\n",
    "* 附近有_百貨公司？\n",
    "* 附近有_超商？\n",
    "* 附近有_傳統市場？\n",
    "* 附近有_夜市？\n",
    "* 附近有_醫療機構？\n",
    "* 附近的捷運站數\n",
    "* 附近的公車站數\n",
    "* 附近的火車站數\n",
    "* 附近的高鐵站數\n",
    "* 附近的公共自行車數（實驗中）\n",
    "* 可炊？\n",
    "* 可寵？\n",
    "* 提供家具_床？\n",
    "* 提供家具_桌子？\n",
    "* 提供家具_椅子？\n",
    "* 提供家具_電視？\n",
    "* 提供家具_熱水器？\n",
    "* 提供家具_冷氣？\n",
    "* 提供家具_沙發？\n",
    "* 提供家具_洗衣機？\n",
    "* 提供家具_衣櫃？\n",
    "* 提供家具_冰箱？\n",
    "* 提供家具_網路？\n",
    "* 提供家具_第四台？\n",
    "* 提供家具_天然瓦斯？\n",
    "* 提供家具_床？.1\n",
    "* 提供家具_桌子？.1\n",
    "* 提供家具_椅子？.1\n",
    "* 提供家具_電視？.1\n",
    "* 提供家具_熱水器？.1\n",
    "* 提供家具_冷氣？.1\n",
    "* 提供家具_沙發？.1\n",
    "* 提供家具_洗衣機？.1\n",
    "* 提供家具_衣櫃？.1\n",
    "* 提供家具_冰箱？.1\n",
    "* 提供家具_網路？.1\n",
    "* 提供家具_第四台？.1\n",
    "* 提供家具_天然瓦斯？.1  \n",
    "* 提供車位？\n",
    "* 押金月數\n",
    "\n",
    "月管理費沒寫設為0，需要管理費取決於月管理費\n",
    "* 需要管理費？\n",
    "* 月管理費\n",
    "\n",
    "物件類型 對應：  \n",
    "0\t整層住家  \n",
    "1\t獨立套房  \n",
    "2\t分租套房  \n",
    "3\t雅房  \n",
    "4\t車位  \n",
    "5\t其他  \n",
    "6\t倉庫\n",
    "7\t場地  \n",
    "65535\t不明    \n",
    "\n",
    "衛浴數、房數、客廳數的數量要依照套房、雅房等填值   \n",
    "獨立套房：陽台0衛浴1客廳0房數1  \n",
    "分租套房：陽台0衛浴1客廳0房數1   \n",
    "雅房：陽台0衛浴0客廳0房數1  \n",
    "* 陽台數\n",
    "* 衛浴數\n",
    "* 房數\n",
    "* 客廳數\n",
    "\n",
    "不須額外處理的欄位：\n",
    "* 刊登者類型  \n",
    "* 有性別限制？\n",
    "* 重複物件數\n",
    "* 縣市\n",
    "* 鄉鎮市區\n",
    "* 自報頂加？\n",
    "* 建築類型\n",
    "* 物件類型\n",
    "* 所在樓層\n",
    "* 建物樓高\n",
    "* 坪數"
   ]
  },
  {
   "cell_type": "code",
   "execution_count": null,
   "metadata": {
    "id": "s--ZUN_D5FmZ"
   },
   "outputs": [],
   "source": [
    "def preprocess(x,y):\n",
    "  # 以下空值都先當作沒有，因為我們假設如果房屋有提供物件或是附近是否有生活機能，這些東西都是優勢，房東基本上一定會主動揭露，沒填基本代表沒有\n",
    "  # 以下空值都先當作沒有，因為額外費用房東基本上一定要主動揭露，沒填基本代表沒有\n",
    "\n",
    "  # 還沒研究為啥有些檔後面會有 .1 目前先把它槓掉\n",
    "  # features_to_f = ['額外費用_電費？','額外費用_水費？','額外費用_瓦斯？','額外費用_網路？','額外費用_第四台？',\n",
    "  #           '附近有_學校？','附近有_公園？','附近有_百貨公司？','附近有_超商？','附近有_傳統市場？','附近有_夜市？','附近有_醫療機構？','可炊？','可寵？','提供家具_床？',\n",
    "  #           '提供家具_桌子？','提供家具_椅子？','提供家具_電視？','提供家具_熱水器？','提供家具_冷氣？','提供家具_沙發？','提供家具_洗衣機？','提供家具_衣櫃？',\n",
    "  #           '提供家具_冰箱？','提供家具_網路？','提供家具_第四台？','提供家具_天然瓦斯？','提供家具_床？.1','提供家具_桌子？.1','提供家具_椅子？.1','提供家具_電視？.1',\n",
    "  #           '提供家具_熱水器？.1','提供家具_冷氣？.1','提供家具_沙發？.1','提供家具_洗衣機？.1','提供家具_衣櫃？.1','提供家具_冰箱？.1','提供家具_網路？.1',\n",
    "  #           '提供家具_第四台？.1','提供家具_天然瓦斯？.1','提供車位？']\n",
    "    features_to_f = ['額外費用_電費？','額外費用_水費？','額外費用_瓦斯？','額外費用_網路？','額外費用_第四台？',\n",
    "            '附近有_學校？','附近有_公園？','附近有_百貨公司？','附近有_超商？','附近有_傳統市場？','附近有_夜市？','附近有_醫療機構？','可炊？','可寵？','提供家具_床？',\n",
    "            '提供家具_桌子？','提供家具_椅子？','提供家具_電視？','提供家具_熱水器？','提供家具_冷氣？','提供家具_沙發？','提供家具_洗衣機？','提供家具_衣櫃？',\n",
    "            '提供家具_冰箱？','提供家具_網路？','提供家具_第四台？','提供家具_天然瓦斯？','提供車位？']\n",
    "\n",
    "    features_to_zero = ['附近的捷運站數','附近的公車站數','附近的火車站數','附近的高鐵站數',\n",
    "            '附近的公共自行車數（實驗中）', '押金月數']\n",
    "\n",
    "    x.loc[:,features_to_f] = x.loc[:,features_to_f].replace(\"-\", np.nan)\n",
    "    x.loc[:,features_to_f] = x.loc[:,features_to_f].fillna('F')\n",
    "\n",
    "    x.loc[:,features_to_zero] = x.loc[:,features_to_zero].replace(\"-\", np.nan)\n",
    "    x.loc[:,features_to_zero] = x.loc[:,features_to_zero].fillna(0)\n",
    "\n",
    "    # 月管理費沒寫設為0，需要管理費取決於月管理費\n",
    "    x.loc[:,'月管理費'] = x.loc[:,'月管理費'].replace(\"-\", np.nan)\n",
    "    x.loc[:,'月管理費'] = x.loc[:,'月管理費'].fillna(0)\n",
    "    x.loc[(x['需要管理費？']=='-') & (x['月管理費']==0),'需要管理費？'] = \"F\"\n",
    "    \n",
    "    ### 這段我跑起來會壞掉，它說月管理費欄位裡有str，但我看明明就沒有阿...\n",
    "    x.loc[(x['需要管理費？']=='-') & (x['月管理費']!=0),'需要管理費？'] = \"T\"\n",
    "\n",
    "#     1 獨立套房\n",
    "#     2 分租套房\n",
    "#     3 雅房\n",
    "    # 依照物件類型處理陽台、衛浴等\n",
    "    x.loc[(x['陽台數']=='-') & (x['物件類型'] == 1),'陽台數'] = 0\n",
    "    x.loc[x['物件類型'] == 1,'衛浴數'] = 1\n",
    "    x.loc[(x['客廳數']=='-') & (x['物件類型'] == 1),'客廳數'] = 0\n",
    "    x.loc[(x['物件類型'] == 1),'房數'] = 1\n",
    "    x.loc[(x['陽台數']=='-') & (x['物件類型'] == 2),'陽台數'] = 0\n",
    "    x.loc[(x['物件類型'] == 2),'衛浴數'] = 1\n",
    "    x.loc[(x['客廳數']=='-') & (x['物件類型'] == 2),'客廳數'] = 0\n",
    "    x.loc[(x['物件類型'] == 2),'房數'] = 1\n",
    "    x.loc[(x['陽台數']=='-') & (x['物件類型'] == 3),'陽台數'] = 0\n",
    "    x.loc[(x['物件類型'] == 3),'衛浴數'] = 0\n",
    "    x.loc[(x['客廳數']=='-') & (x['物件類型'] == 3),'客廳數'] = 0\n",
    "    x.loc[(x['物件類型'] == 3),'房數'] = 1\n",
    "    ### 還是會有少數的資料是空白的，目前先刪掉\n",
    "    delete_num = len(x[x['房數']=='-'].index)\n",
    "    indexs = x[x['房數']=='-'].index\n",
    "    x = x.drop(indexs)\n",
    "    y = y.drop(indexs)\n",
    "    print(\"共有{}筆資料是非獨立套房、分租套房、雅房又是空值的，所以先刪了\".format(delete_num))\n",
    "\n",
    "    ### 砍掉整層住家房間數為零者\n",
    "    delete_num = len(x[(x['物件類型'] == 0) & (x['房數']==0)].index)\n",
    "    indexs = x[(x['物件類型'] == 0) & (x['房數']==0)].index\n",
    "    x = x.drop(indexs)\n",
    "    y = y.drop(indexs)\n",
    "    print(\"共有{}筆資料房數是0的，所以先刪了\".format(delete_num))\n",
    "\n",
    "    ### 砍掉整層住家衛浴數為零為零者\n",
    "    delete_num = len(x[(x['物件類型'] == 0) & (x['衛浴數']==0)].index)\n",
    "    indexs = x[(x['物件類型'] == 0) & (x['衛浴數']==0)].index\n",
    "    x = x.drop(indexs)\n",
    "    y = y.drop(indexs)\n",
    "    print(\"共有{}筆資料衛浴數是0的，所以先刪了\".format(delete_num))\n",
    "    ### 砍掉重複刊登次數 > 2 的: 上面已砍\n",
    "    #index_dup = x[x['重複物件數'] > 1].index\n",
    "    #x = x.drop(index_dup)\n",
    "    #y = y.drop(index_dup)\n",
    "    #print(\"共有{}筆資料是非獨立套房、分租套房、雅房又是空值的，所以先刪了\".format(delete_num))\n",
    "\n",
    "    # 將T/F轉為1/0\n",
    "    x = x.replace('T', 1)\n",
    "    x = x.replace('F', 0)\n",
    "\n",
    "    if '-' in x.values:\n",
    "        print('還有空值存在dataframe中，請檢查!!!!')\n",
    "        print(\"前處理完成\")\n",
    "    return x, y"
   ]
  },
  {
   "cell_type": "markdown",
   "metadata": {
    "id": "sTyGjXQUfbML"
   },
   "source": [
    "#### 實施資料前處理"
   ]
  },
  {
   "cell_type": "code",
   "execution_count": null,
   "metadata": {
    "colab": {
     "base_uri": "https://localhost:8080/"
    },
    "id": "bmb2P-uqtZRv",
    "outputId": "8a0f1b18-2088-41ba-aff2-157d7692772a"
   },
   "outputs": [
    {
     "name": "stdout",
     "output_type": "stream",
     "text": [
      "共有48筆資料是非獨立套房、分租套房、雅房又是空值的，所以先刪了\n",
      "共有4144筆資料房數是0的，所以先刪了\n",
      "共有310筆資料衛浴數是0的，所以先刪了\n"
     ]
    },
    {
     "name": "stderr",
     "output_type": "stream",
     "text": [
      "<ipython-input-25-f01f67baec05>:80: FutureWarning: elementwise comparison failed; returning scalar instead, but in the future will perform elementwise comparison\n",
      "  if '-' in x.values:\n"
     ]
    }
   ],
   "source": [
    "df_x, df_y = preprocess(df_x, df_y)"
   ]
  },
  {
   "cell_type": "markdown",
   "metadata": {},
   "source": [
    "#### 切分訓練集和測試集"
   ]
  },
  {
   "cell_type": "code",
   "execution_count": null,
   "metadata": {
    "id": "14p_PfdauqMY"
   },
   "outputs": [],
   "source": [
    "from sklearn.model_selection import train_test_split\n",
    "\n",
    "df_train_x, df_test_x, df_train_y, df_test_y = train_test_split( df_x, df_y, test_size=0.25, random_state=4)"
   ]
  },
  {
   "cell_type": "markdown",
   "metadata": {},
   "source": [
    "#### 查看處理後的資料 + 其他細節處理"
   ]
  },
  {
   "cell_type": "code",
   "execution_count": null,
   "metadata": {
    "id": "TYmO_f7ouqMZ",
    "outputId": "de6147ae-25cd-4ff0-ee4c-0a2a1e0ac291"
   },
   "outputs": [
    {
     "data": {
      "text/html": [
       "<div>\n",
       "<style scoped>\n",
       "    .dataframe tbody tr th:only-of-type {\n",
       "        vertical-align: middle;\n",
       "    }\n",
       "\n",
       "    .dataframe tbody tr th {\n",
       "        vertical-align: top;\n",
       "    }\n",
       "\n",
       "    .dataframe thead th {\n",
       "        text-align: right;\n",
       "    }\n",
       "</style>\n",
       "<table border=\"1\" class=\"dataframe\">\n",
       "  <thead>\n",
       "    <tr style=\"text-align: right;\">\n",
       "      <th></th>\n",
       "      <th>重複物件數</th>\n",
       "      <th>縣市</th>\n",
       "      <th>鄉鎮市區</th>\n",
       "      <th>押金月數</th>\n",
       "      <th>月管理費</th>\n",
       "      <th>需要管理費？</th>\n",
       "      <th>提供車位？</th>\n",
       "      <th>建築類型</th>\n",
       "      <th>物件類型</th>\n",
       "      <th>自報頂加？</th>\n",
       "      <th>...</th>\n",
       "      <th>提供家具_電視？</th>\n",
       "      <th>提供家具_熱水器？</th>\n",
       "      <th>提供家具_冷氣？</th>\n",
       "      <th>提供家具_沙發？</th>\n",
       "      <th>提供家具_洗衣機？</th>\n",
       "      <th>提供家具_衣櫃？</th>\n",
       "      <th>提供家具_冰箱？</th>\n",
       "      <th>提供家具_網路？</th>\n",
       "      <th>提供家具_第四台？</th>\n",
       "      <th>提供家具_天然瓦斯？</th>\n",
       "    </tr>\n",
       "  </thead>\n",
       "  <tbody>\n",
       "    <tr>\n",
       "      <th>503166</th>\n",
       "      <td>1</td>\n",
       "      <td>11</td>\n",
       "      <td>1111</td>\n",
       "      <td>2.00</td>\n",
       "      <td>0.00</td>\n",
       "      <td>0</td>\n",
       "      <td>0</td>\n",
       "      <td>0</td>\n",
       "      <td>0</td>\n",
       "      <td>0</td>\n",
       "      <td>...</td>\n",
       "      <td>0</td>\n",
       "      <td>1</td>\n",
       "      <td>1</td>\n",
       "      <td>0</td>\n",
       "      <td>0</td>\n",
       "      <td>1</td>\n",
       "      <td>0</td>\n",
       "      <td>0</td>\n",
       "      <td>0</td>\n",
       "      <td>0</td>\n",
       "    </tr>\n",
       "    <tr>\n",
       "      <th>605085</th>\n",
       "      <td>1</td>\n",
       "      <td>11</td>\n",
       "      <td>1117</td>\n",
       "      <td>2.00</td>\n",
       "      <td>0.00</td>\n",
       "      <td>0</td>\n",
       "      <td>0</td>\n",
       "      <td>2</td>\n",
       "      <td>0</td>\n",
       "      <td>0</td>\n",
       "      <td>...</td>\n",
       "      <td>0</td>\n",
       "      <td>1</td>\n",
       "      <td>1</td>\n",
       "      <td>1</td>\n",
       "      <td>1</td>\n",
       "      <td>1</td>\n",
       "      <td>1</td>\n",
       "      <td>0</td>\n",
       "      <td>0</td>\n",
       "      <td>1</td>\n",
       "    </tr>\n",
       "    <tr>\n",
       "      <th>7634</th>\n",
       "      <td>1</td>\n",
       "      <td>17</td>\n",
       "      <td>1700</td>\n",
       "      <td>0.00</td>\n",
       "      <td>0.00</td>\n",
       "      <td>0</td>\n",
       "      <td>0</td>\n",
       "      <td>2</td>\n",
       "      <td>2</td>\n",
       "      <td>0</td>\n",
       "      <td>...</td>\n",
       "      <td>1</td>\n",
       "      <td>1</td>\n",
       "      <td>1</td>\n",
       "      <td>1</td>\n",
       "      <td>1</td>\n",
       "      <td>1</td>\n",
       "      <td>1</td>\n",
       "      <td>0</td>\n",
       "      <td>1</td>\n",
       "      <td>1</td>\n",
       "    </tr>\n",
       "    <tr>\n",
       "      <th>223418</th>\n",
       "      <td>1</td>\n",
       "      <td>17</td>\n",
       "      <td>1701</td>\n",
       "      <td>2.00</td>\n",
       "      <td>0.00</td>\n",
       "      <td>0</td>\n",
       "      <td>0</td>\n",
       "      <td>0</td>\n",
       "      <td>2</td>\n",
       "      <td>0</td>\n",
       "      <td>...</td>\n",
       "      <td>1</td>\n",
       "      <td>1</td>\n",
       "      <td>1</td>\n",
       "      <td>1</td>\n",
       "      <td>1</td>\n",
       "      <td>1</td>\n",
       "      <td>1</td>\n",
       "      <td>1</td>\n",
       "      <td>0</td>\n",
       "      <td>0</td>\n",
       "    </tr>\n",
       "    <tr>\n",
       "      <th>452243</th>\n",
       "      <td>1</td>\n",
       "      <td>11</td>\n",
       "      <td>1111</td>\n",
       "      <td>2.00</td>\n",
       "      <td>0.00</td>\n",
       "      <td>0</td>\n",
       "      <td>0</td>\n",
       "      <td>2</td>\n",
       "      <td>0</td>\n",
       "      <td>0</td>\n",
       "      <td>...</td>\n",
       "      <td>0</td>\n",
       "      <td>1</td>\n",
       "      <td>1</td>\n",
       "      <td>1</td>\n",
       "      <td>1</td>\n",
       "      <td>1</td>\n",
       "      <td>1</td>\n",
       "      <td>0</td>\n",
       "      <td>0</td>\n",
       "      <td>1</td>\n",
       "    </tr>\n",
       "  </tbody>\n",
       "</table>\n",
       "<p>5 rows × 51 columns</p>\n",
       "</div>"
      ],
      "text/plain": [
       "        重複物件數  縣市  鄉鎮市區  押金月數  月管理費  需要管理費？  提供車位？  建築類型  物件類型  自報頂加？  ...  \\\n",
       "503166      1  11  1111  2.00  0.00       0      0     0     0      0  ...   \n",
       "605085      1  11  1117  2.00  0.00       0      0     2     0      0  ...   \n",
       "7634        1  17  1700  0.00  0.00       0      0     2     2      0  ...   \n",
       "223418      1  17  1701  2.00  0.00       0      0     0     2      0  ...   \n",
       "452243      1  11  1111  2.00  0.00       0      0     2     0      0  ...   \n",
       "\n",
       "        提供家具_電視？  提供家具_熱水器？  提供家具_冷氣？  提供家具_沙發？  提供家具_洗衣機？  提供家具_衣櫃？  \\\n",
       "503166         0          1         1         0          0         1   \n",
       "605085         0          1         1         1          1         1   \n",
       "7634           1          1         1         1          1         1   \n",
       "223418         1          1         1         1          1         1   \n",
       "452243         0          1         1         1          1         1   \n",
       "\n",
       "        提供家具_冰箱？  提供家具_網路？  提供家具_第四台？  提供家具_天然瓦斯？  \n",
       "503166         0         0          0           0  \n",
       "605085         1         0          0           1  \n",
       "7634           1         0          1           1  \n",
       "223418         1         1          0           0  \n",
       "452243         1         0          0           1  \n",
       "\n",
       "[5 rows x 51 columns]"
      ]
     },
     "execution_count": 28,
     "metadata": {
      "tags": []
     },
     "output_type": "execute_result"
    }
   ],
   "source": [
    "df_train_x.head()"
   ]
  },
  {
   "cell_type": "code",
   "execution_count": null,
   "metadata": {
    "id": "ulqITGZ6uqMb",
    "outputId": "838139dd-3677-4779-89da-2cc9e9f7b163"
   },
   "outputs": [
    {
     "data": {
      "text/plain": [
       "503166    12900\n",
       "605085    19000\n",
       "7634      15800\n",
       "223418    12700\n",
       "452243    18000\n",
       "Name: 月租金, dtype: int64"
      ]
     },
     "execution_count": 29,
     "metadata": {
      "tags": []
     },
     "output_type": "execute_result"
    }
   ],
   "source": [
    "df_train_y.head()"
   ]
  },
  {
   "cell_type": "code",
   "execution_count": null,
   "metadata": {
    "id": "K5PSB6GOuqMc"
   },
   "outputs": [],
   "source": [
    "train_in = df_train_x['鄉鎮市區'].unique()"
   ]
  },
  {
   "cell_type": "code",
   "execution_count": null,
   "metadata": {
    "id": "Fly2r9MnuqMe",
    "outputId": "01156209-5f49-4fa3-8faa-010cee702946"
   },
   "outputs": [
    {
     "data": {
      "text/html": [
       "<div>\n",
       "<style scoped>\n",
       "    .dataframe tbody tr th:only-of-type {\n",
       "        vertical-align: middle;\n",
       "    }\n",
       "\n",
       "    .dataframe tbody tr th {\n",
       "        vertical-align: top;\n",
       "    }\n",
       "\n",
       "    .dataframe thead th {\n",
       "        text-align: right;\n",
       "    }\n",
       "</style>\n",
       "<table border=\"1\" class=\"dataframe\">\n",
       "  <thead>\n",
       "    <tr style=\"text-align: right;\">\n",
       "      <th></th>\n",
       "      <th>重複物件數</th>\n",
       "      <th>縣市</th>\n",
       "      <th>鄉鎮市區</th>\n",
       "      <th>押金月數</th>\n",
       "      <th>月管理費</th>\n",
       "      <th>需要管理費？</th>\n",
       "      <th>提供車位？</th>\n",
       "      <th>建築類型</th>\n",
       "      <th>物件類型</th>\n",
       "      <th>自報頂加？</th>\n",
       "      <th>...</th>\n",
       "      <th>提供家具_電視？</th>\n",
       "      <th>提供家具_熱水器？</th>\n",
       "      <th>提供家具_冷氣？</th>\n",
       "      <th>提供家具_沙發？</th>\n",
       "      <th>提供家具_洗衣機？</th>\n",
       "      <th>提供家具_衣櫃？</th>\n",
       "      <th>提供家具_冰箱？</th>\n",
       "      <th>提供家具_網路？</th>\n",
       "      <th>提供家具_第四台？</th>\n",
       "      <th>提供家具_天然瓦斯？</th>\n",
       "    </tr>\n",
       "  </thead>\n",
       "  <tbody>\n",
       "  </tbody>\n",
       "</table>\n",
       "<p>0 rows × 51 columns</p>\n",
       "</div>"
      ],
      "text/plain": [
       "Empty DataFrame\n",
       "Columns: [重複物件數, 縣市, 鄉鎮市區, 押金月數, 月管理費, 需要管理費？, 提供車位？, 建築類型, 物件類型, 自報頂加？, 所在樓層, 建物樓高, 坪數, 陽台數, 衛浴數, 房數, 客廳數, 額外費用_電費？, 額外費用_水費？, 額外費用_瓦斯？, 額外費用_網路？, 額外費用_第四台？, 附近有_學校？, 附近有_公園？, 附近有_百貨公司？, 附近有_超商？, 附近有_傳統市場？, 附近有_夜市？, 附近有_醫療機構？, 附近的捷運站數, 附近的公車站數, 附近的火車站數, 附近的高鐵站數, 附近的公共自行車數（實驗中）, 有性別限制？, 可炊？, 可寵？, 刊登者類型, 提供家具_床？, 提供家具_桌子？, 提供家具_椅子？, 提供家具_電視？, 提供家具_熱水器？, 提供家具_冷氣？, 提供家具_沙發？, 提供家具_洗衣機？, 提供家具_衣櫃？, 提供家具_冰箱？, 提供家具_網路？, 提供家具_第四台？, 提供家具_天然瓦斯？]\n",
       "Index: []\n",
       "\n",
       "[0 rows x 51 columns]"
      ]
     },
     "execution_count": 31,
     "metadata": {
      "tags": []
     },
     "output_type": "execute_result"
    }
   ],
   "source": [
    "df_test_x[df_test_x['鄉鎮市區'].isin(train_in) == False]"
   ]
  },
  {
   "cell_type": "code",
   "execution_count": null,
   "metadata": {
    "id": "ofZ_joifuqMf"
   },
   "outputs": [],
   "source": [
    "plt.rcParams['font.family'] = 'Microsoft JhengHei'\n",
    "plt.rcParams['axes.unicode_minus'] = False"
   ]
  },
  {
   "cell_type": "code",
   "execution_count": null,
   "metadata": {
    "id": "yMxrujsXuqMh",
    "outputId": "062dc1fc-739f-4fc2-aed9-aa0f077ae74e"
   },
   "outputs": [
    {
     "data": {
      "text/plain": [
       "<AxesSubplot:>"
      ]
     },
     "execution_count": 33,
     "metadata": {
      "tags": []
     },
     "output_type": "execute_result"
    },
    {
     "data": {
      "image/png": "[encoded data removed]",
      "text/plain": [
       "<Figure size 432x288 with 1 Axes>"
      ]
     },
     "metadata": {
      "needs_background": "light",
      "tags": []
     },
     "output_type": "display_data"
    }
   ],
   "source": [
    "df_train_x['鄉鎮市區'].value_counts().sort_values().plot(kind='bar', width=2)"
   ]
  },
  {
   "cell_type": "code",
   "execution_count": null,
   "metadata": {
    "id": "f0dadEqluqMi",
    "outputId": "5209997e-a12c-4d79-f185-9ef078c0397f"
   },
   "outputs": [
    {
     "data": {
      "text/plain": [
       "<AxesSubplot:>"
      ]
     },
     "execution_count": 34,
     "metadata": {
      "tags": []
     },
     "output_type": "execute_result"
    },
    {
     "data": {
      "image/png": "[encoded data removed]",
      "text/plain": [
       "<Figure size 432x288 with 1 Axes>"
      ]
     },
     "metadata": {
      "needs_background": "light",
      "tags": []
     },
     "output_type": "display_data"
    }
   ],
   "source": [
    "df_test_x['鄉鎮市區'].value_counts().sort_values().plot(kind='bar', width=2)"
   ]
  },
  {
   "cell_type": "code",
   "execution_count": null,
   "metadata": {
    "id": "nmzFyo3uuqMk"
   },
   "outputs": [],
   "source": [
    "ratio = pd.concat([(df_train_x['鄉鎮市區'].value_counts()/df_train_x.shape[0]).sort_values().reset_index(),(df_test_x['鄉鎮市區'].value_counts()/df_test_x.shape[0]).sort_values().reset_index()], axis = 1)"
   ]
  },
  {
   "cell_type": "code",
   "execution_count": null,
   "metadata": {
    "id": "gISl5a1nuqMk",
    "outputId": "9ffa96f3-896d-4bf2-8498-1f96e3721e71"
   },
   "outputs": [
    {
     "data": {
      "text/html": [
       "<div>\n",
       "<style scoped>\n",
       "    .dataframe tbody tr th:only-of-type {\n",
       "        vertical-align: middle;\n",
       "    }\n",
       "\n",
       "    .dataframe tbody tr th {\n",
       "        vertical-align: top;\n",
       "    }\n",
       "\n",
       "    .dataframe thead th {\n",
       "        text-align: right;\n",
       "    }\n",
       "</style>\n",
       "<table border=\"1\" class=\"dataframe\">\n",
       "  <thead>\n",
       "    <tr style=\"text-align: right;\">\n",
       "      <th></th>\n",
       "      <th>index</th>\n",
       "      <th>鄉鎮市區</th>\n",
       "      <th>index</th>\n",
       "      <th>鄉鎮市區</th>\n",
       "    </tr>\n",
       "  </thead>\n",
       "  <tbody>\n",
       "    <tr>\n",
       "      <th>0</th>\n",
       "      <td>1127</td>\n",
       "      <td>0.00</td>\n",
       "      <td>1119</td>\n",
       "      <td>0.00</td>\n",
       "    </tr>\n",
       "    <tr>\n",
       "      <th>1</th>\n",
       "      <td>1121</td>\n",
       "      <td>0.00</td>\n",
       "      <td>1127</td>\n",
       "      <td>0.00</td>\n",
       "    </tr>\n",
       "    <tr>\n",
       "      <th>2</th>\n",
       "      <td>1119</td>\n",
       "      <td>0.00</td>\n",
       "      <td>1108</td>\n",
       "      <td>0.00</td>\n",
       "    </tr>\n",
       "    <tr>\n",
       "      <th>3</th>\n",
       "      <td>1108</td>\n",
       "      <td>0.00</td>\n",
       "      <td>1121</td>\n",
       "      <td>0.00</td>\n",
       "    </tr>\n",
       "    <tr>\n",
       "      <th>4</th>\n",
       "      <td>1122</td>\n",
       "      <td>0.00</td>\n",
       "      <td>1122</td>\n",
       "      <td>0.00</td>\n",
       "    </tr>\n",
       "    <tr>\n",
       "      <th>5</th>\n",
       "      <td>1125</td>\n",
       "      <td>0.00</td>\n",
       "      <td>1125</td>\n",
       "      <td>0.00</td>\n",
       "    </tr>\n",
       "    <tr>\n",
       "      <th>6</th>\n",
       "      <td>1126</td>\n",
       "      <td>0.00</td>\n",
       "      <td>1126</td>\n",
       "      <td>0.00</td>\n",
       "    </tr>\n",
       "    <tr>\n",
       "      <th>7</th>\n",
       "      <td>1123</td>\n",
       "      <td>0.00</td>\n",
       "      <td>1120</td>\n",
       "      <td>0.00</td>\n",
       "    </tr>\n",
       "    <tr>\n",
       "      <th>8</th>\n",
       "      <td>1120</td>\n",
       "      <td>0.00</td>\n",
       "      <td>1123</td>\n",
       "      <td>0.00</td>\n",
       "    </tr>\n",
       "    <tr>\n",
       "      <th>9</th>\n",
       "      <td>1101</td>\n",
       "      <td>0.00</td>\n",
       "      <td>1101</td>\n",
       "      <td>0.00</td>\n",
       "    </tr>\n",
       "    <tr>\n",
       "      <th>10</th>\n",
       "      <td>1118</td>\n",
       "      <td>0.00</td>\n",
       "      <td>1118</td>\n",
       "      <td>0.00</td>\n",
       "    </tr>\n",
       "    <tr>\n",
       "      <th>11</th>\n",
       "      <td>1105</td>\n",
       "      <td>0.00</td>\n",
       "      <td>1105</td>\n",
       "      <td>0.00</td>\n",
       "    </tr>\n",
       "    <tr>\n",
       "      <th>12</th>\n",
       "      <td>1128</td>\n",
       "      <td>0.01</td>\n",
       "      <td>1128</td>\n",
       "      <td>0.01</td>\n",
       "    </tr>\n",
       "    <tr>\n",
       "      <th>13</th>\n",
       "      <td>1116</td>\n",
       "      <td>0.01</td>\n",
       "      <td>1116</td>\n",
       "      <td>0.01</td>\n",
       "    </tr>\n",
       "    <tr>\n",
       "      <th>14</th>\n",
       "      <td>1104</td>\n",
       "      <td>0.01</td>\n",
       "      <td>1104</td>\n",
       "      <td>0.01</td>\n",
       "    </tr>\n",
       "    <tr>\n",
       "      <th>15</th>\n",
       "      <td>1113</td>\n",
       "      <td>0.01</td>\n",
       "      <td>1113</td>\n",
       "      <td>0.01</td>\n",
       "    </tr>\n",
       "    <tr>\n",
       "      <th>16</th>\n",
       "      <td>1100</td>\n",
       "      <td>0.01</td>\n",
       "      <td>1100</td>\n",
       "      <td>0.01</td>\n",
       "    </tr>\n",
       "    <tr>\n",
       "      <th>17</th>\n",
       "      <td>1112</td>\n",
       "      <td>0.02</td>\n",
       "      <td>1705</td>\n",
       "      <td>0.02</td>\n",
       "    </tr>\n",
       "    <tr>\n",
       "      <th>18</th>\n",
       "      <td>1106</td>\n",
       "      <td>0.02</td>\n",
       "      <td>1106</td>\n",
       "      <td>0.02</td>\n",
       "    </tr>\n",
       "    <tr>\n",
       "      <th>19</th>\n",
       "      <td>1705</td>\n",
       "      <td>0.02</td>\n",
       "      <td>1112</td>\n",
       "      <td>0.02</td>\n",
       "    </tr>\n",
       "    <tr>\n",
       "      <th>20</th>\n",
       "      <td>1124</td>\n",
       "      <td>0.02</td>\n",
       "      <td>1124</td>\n",
       "      <td>0.02</td>\n",
       "    </tr>\n",
       "    <tr>\n",
       "      <th>21</th>\n",
       "      <td>1707</td>\n",
       "      <td>0.02</td>\n",
       "      <td>1707</td>\n",
       "      <td>0.02</td>\n",
       "    </tr>\n",
       "    <tr>\n",
       "      <th>22</th>\n",
       "      <td>1709</td>\n",
       "      <td>0.03</td>\n",
       "      <td>1709</td>\n",
       "      <td>0.03</td>\n",
       "    </tr>\n",
       "    <tr>\n",
       "      <th>23</th>\n",
       "      <td>1704</td>\n",
       "      <td>0.03</td>\n",
       "      <td>1704</td>\n",
       "      <td>0.03</td>\n",
       "    </tr>\n",
       "    <tr>\n",
       "      <th>24</th>\n",
       "      <td>1115</td>\n",
       "      <td>0.03</td>\n",
       "      <td>1711</td>\n",
       "      <td>0.03</td>\n",
       "    </tr>\n",
       "    <tr>\n",
       "      <th>25</th>\n",
       "      <td>1711</td>\n",
       "      <td>0.03</td>\n",
       "      <td>1115</td>\n",
       "      <td>0.03</td>\n",
       "    </tr>\n",
       "    <tr>\n",
       "      <th>26</th>\n",
       "      <td>1109</td>\n",
       "      <td>0.03</td>\n",
       "      <td>1109</td>\n",
       "      <td>0.03</td>\n",
       "    </tr>\n",
       "    <tr>\n",
       "      <th>27</th>\n",
       "      <td>1114</td>\n",
       "      <td>0.03</td>\n",
       "      <td>1114</td>\n",
       "      <td>0.03</td>\n",
       "    </tr>\n",
       "    <tr>\n",
       "      <th>28</th>\n",
       "      <td>1701</td>\n",
       "      <td>0.03</td>\n",
       "      <td>1701</td>\n",
       "      <td>0.03</td>\n",
       "    </tr>\n",
       "    <tr>\n",
       "      <th>29</th>\n",
       "      <td>1710</td>\n",
       "      <td>0.04</td>\n",
       "      <td>1710</td>\n",
       "      <td>0.03</td>\n",
       "    </tr>\n",
       "    <tr>\n",
       "      <th>30</th>\n",
       "      <td>1706</td>\n",
       "      <td>0.04</td>\n",
       "      <td>1706</td>\n",
       "      <td>0.04</td>\n",
       "    </tr>\n",
       "    <tr>\n",
       "      <th>31</th>\n",
       "      <td>1110</td>\n",
       "      <td>0.05</td>\n",
       "      <td>1110</td>\n",
       "      <td>0.05</td>\n",
       "    </tr>\n",
       "    <tr>\n",
       "      <th>32</th>\n",
       "      <td>1703</td>\n",
       "      <td>0.05</td>\n",
       "      <td>1703</td>\n",
       "      <td>0.05</td>\n",
       "    </tr>\n",
       "    <tr>\n",
       "      <th>33</th>\n",
       "      <td>1117</td>\n",
       "      <td>0.05</td>\n",
       "      <td>1117</td>\n",
       "      <td>0.05</td>\n",
       "    </tr>\n",
       "    <tr>\n",
       "      <th>34</th>\n",
       "      <td>1103</td>\n",
       "      <td>0.05</td>\n",
       "      <td>1103</td>\n",
       "      <td>0.05</td>\n",
       "    </tr>\n",
       "    <tr>\n",
       "      <th>35</th>\n",
       "      <td>1702</td>\n",
       "      <td>0.06</td>\n",
       "      <td>1702</td>\n",
       "      <td>0.06</td>\n",
       "    </tr>\n",
       "    <tr>\n",
       "      <th>36</th>\n",
       "      <td>1102</td>\n",
       "      <td>0.06</td>\n",
       "      <td>1102</td>\n",
       "      <td>0.06</td>\n",
       "    </tr>\n",
       "    <tr>\n",
       "      <th>37</th>\n",
       "      <td>1708</td>\n",
       "      <td>0.07</td>\n",
       "      <td>1708</td>\n",
       "      <td>0.07</td>\n",
       "    </tr>\n",
       "    <tr>\n",
       "      <th>38</th>\n",
       "      <td>1111</td>\n",
       "      <td>0.07</td>\n",
       "      <td>1111</td>\n",
       "      <td>0.07</td>\n",
       "    </tr>\n",
       "    <tr>\n",
       "      <th>39</th>\n",
       "      <td>1700</td>\n",
       "      <td>0.11</td>\n",
       "      <td>1700</td>\n",
       "      <td>0.11</td>\n",
       "    </tr>\n",
       "  </tbody>\n",
       "</table>\n",
       "</div>"
      ],
      "text/plain": [
       "    index  鄉鎮市區  index  鄉鎮市區\n",
       "0    1127  0.00   1119  0.00\n",
       "1    1121  0.00   1127  0.00\n",
       "2    1119  0.00   1108  0.00\n",
       "3    1108  0.00   1121  0.00\n",
       "4    1122  0.00   1122  0.00\n",
       "5    1125  0.00   1125  0.00\n",
       "6    1126  0.00   1126  0.00\n",
       "7    1123  0.00   1120  0.00\n",
       "8    1120  0.00   1123  0.00\n",
       "9    1101  0.00   1101  0.00\n",
       "10   1118  0.00   1118  0.00\n",
       "11   1105  0.00   1105  0.00\n",
       "12   1128  0.01   1128  0.01\n",
       "13   1116  0.01   1116  0.01\n",
       "14   1104  0.01   1104  0.01\n",
       "15   1113  0.01   1113  0.01\n",
       "16   1100  0.01   1100  0.01\n",
       "17   1112  0.02   1705  0.02\n",
       "18   1106  0.02   1106  0.02\n",
       "19   1705  0.02   1112  0.02\n",
       "20   1124  0.02   1124  0.02\n",
       "21   1707  0.02   1707  0.02\n",
       "22   1709  0.03   1709  0.03\n",
       "23   1704  0.03   1704  0.03\n",
       "24   1115  0.03   1711  0.03\n",
       "25   1711  0.03   1115  0.03\n",
       "26   1109  0.03   1109  0.03\n",
       "27   1114  0.03   1114  0.03\n",
       "28   1701  0.03   1701  0.03\n",
       "29   1710  0.04   1710  0.03\n",
       "30   1706  0.04   1706  0.04\n",
       "31   1110  0.05   1110  0.05\n",
       "32   1703  0.05   1703  0.05\n",
       "33   1117  0.05   1117  0.05\n",
       "34   1103  0.05   1103  0.05\n",
       "35   1702  0.06   1702  0.06\n",
       "36   1102  0.06   1102  0.06\n",
       "37   1708  0.07   1708  0.07\n",
       "38   1111  0.07   1111  0.07\n",
       "39   1700  0.11   1700  0.11"
      ]
     },
     "execution_count": 36,
     "metadata": {
      "tags": []
     },
     "output_type": "execute_result"
    }
   ],
   "source": [
    "#分布大致相同 <- 之後會再改，總之先拿來跑模型XD\n",
    "ratio"
   ]
  },
  {
   "cell_type": "code",
   "execution_count": null,
   "metadata": {
    "colab": {
     "base_uri": "https://localhost:8080/",
     "height": 339
    },
    "id": "SfjR4RrBuoGK",
    "outputId": "0c4980ad-849a-462e-bd58-3cc0afdb2bce"
   },
   "outputs": [
    {
     "data": {
      "text/html": [
       "<div>\n",
       "<style scoped>\n",
       "    .dataframe tbody tr th:only-of-type {\n",
       "        vertical-align: middle;\n",
       "    }\n",
       "\n",
       "    .dataframe tbody tr th {\n",
       "        vertical-align: top;\n",
       "    }\n",
       "\n",
       "    .dataframe thead th {\n",
       "        text-align: right;\n",
       "    }\n",
       "</style>\n",
       "<table border=\"1\" class=\"dataframe\">\n",
       "  <thead>\n",
       "    <tr style=\"text-align: right;\">\n",
       "      <th></th>\n",
       "      <th>重複物件數</th>\n",
       "      <th>縣市</th>\n",
       "      <th>鄉鎮市區</th>\n",
       "      <th>押金月數</th>\n",
       "      <th>月管理費</th>\n",
       "      <th>需要管理費？</th>\n",
       "      <th>提供車位？</th>\n",
       "      <th>建築類型</th>\n",
       "      <th>物件類型</th>\n",
       "      <th>自報頂加？</th>\n",
       "      <th>...</th>\n",
       "      <th>提供家具_電視？</th>\n",
       "      <th>提供家具_熱水器？</th>\n",
       "      <th>提供家具_冷氣？</th>\n",
       "      <th>提供家具_沙發？</th>\n",
       "      <th>提供家具_洗衣機？</th>\n",
       "      <th>提供家具_衣櫃？</th>\n",
       "      <th>提供家具_冰箱？</th>\n",
       "      <th>提供家具_網路？</th>\n",
       "      <th>提供家具_第四台？</th>\n",
       "      <th>提供家具_天然瓦斯？</th>\n",
       "    </tr>\n",
       "  </thead>\n",
       "  <tbody>\n",
       "    <tr>\n",
       "      <th>0</th>\n",
       "      <td>1</td>\n",
       "      <td>11</td>\n",
       "      <td>1111</td>\n",
       "      <td>2.00</td>\n",
       "      <td>0.00</td>\n",
       "      <td>0</td>\n",
       "      <td>0</td>\n",
       "      <td>0</td>\n",
       "      <td>0</td>\n",
       "      <td>0</td>\n",
       "      <td>...</td>\n",
       "      <td>0</td>\n",
       "      <td>1</td>\n",
       "      <td>1</td>\n",
       "      <td>0</td>\n",
       "      <td>0</td>\n",
       "      <td>1</td>\n",
       "      <td>0</td>\n",
       "      <td>0</td>\n",
       "      <td>0</td>\n",
       "      <td>0</td>\n",
       "    </tr>\n",
       "    <tr>\n",
       "      <th>1</th>\n",
       "      <td>1</td>\n",
       "      <td>11</td>\n",
       "      <td>1117</td>\n",
       "      <td>2.00</td>\n",
       "      <td>0.00</td>\n",
       "      <td>0</td>\n",
       "      <td>0</td>\n",
       "      <td>2</td>\n",
       "      <td>0</td>\n",
       "      <td>0</td>\n",
       "      <td>...</td>\n",
       "      <td>0</td>\n",
       "      <td>1</td>\n",
       "      <td>1</td>\n",
       "      <td>1</td>\n",
       "      <td>1</td>\n",
       "      <td>1</td>\n",
       "      <td>1</td>\n",
       "      <td>0</td>\n",
       "      <td>0</td>\n",
       "      <td>1</td>\n",
       "    </tr>\n",
       "    <tr>\n",
       "      <th>2</th>\n",
       "      <td>1</td>\n",
       "      <td>17</td>\n",
       "      <td>1700</td>\n",
       "      <td>0.00</td>\n",
       "      <td>0.00</td>\n",
       "      <td>0</td>\n",
       "      <td>0</td>\n",
       "      <td>2</td>\n",
       "      <td>2</td>\n",
       "      <td>0</td>\n",
       "      <td>...</td>\n",
       "      <td>1</td>\n",
       "      <td>1</td>\n",
       "      <td>1</td>\n",
       "      <td>1</td>\n",
       "      <td>1</td>\n",
       "      <td>1</td>\n",
       "      <td>1</td>\n",
       "      <td>0</td>\n",
       "      <td>1</td>\n",
       "      <td>1</td>\n",
       "    </tr>\n",
       "    <tr>\n",
       "      <th>3</th>\n",
       "      <td>1</td>\n",
       "      <td>17</td>\n",
       "      <td>1701</td>\n",
       "      <td>2.00</td>\n",
       "      <td>0.00</td>\n",
       "      <td>0</td>\n",
       "      <td>0</td>\n",
       "      <td>0</td>\n",
       "      <td>2</td>\n",
       "      <td>0</td>\n",
       "      <td>...</td>\n",
       "      <td>1</td>\n",
       "      <td>1</td>\n",
       "      <td>1</td>\n",
       "      <td>1</td>\n",
       "      <td>1</td>\n",
       "      <td>1</td>\n",
       "      <td>1</td>\n",
       "      <td>1</td>\n",
       "      <td>0</td>\n",
       "      <td>0</td>\n",
       "    </tr>\n",
       "    <tr>\n",
       "      <th>4</th>\n",
       "      <td>1</td>\n",
       "      <td>11</td>\n",
       "      <td>1111</td>\n",
       "      <td>2.00</td>\n",
       "      <td>0.00</td>\n",
       "      <td>0</td>\n",
       "      <td>0</td>\n",
       "      <td>2</td>\n",
       "      <td>0</td>\n",
       "      <td>0</td>\n",
       "      <td>...</td>\n",
       "      <td>0</td>\n",
       "      <td>1</td>\n",
       "      <td>1</td>\n",
       "      <td>1</td>\n",
       "      <td>1</td>\n",
       "      <td>1</td>\n",
       "      <td>1</td>\n",
       "      <td>0</td>\n",
       "      <td>0</td>\n",
       "      <td>1</td>\n",
       "    </tr>\n",
       "  </tbody>\n",
       "</table>\n",
       "<p>5 rows × 51 columns</p>\n",
       "</div>"
      ],
      "text/plain": [
       "   重複物件數  縣市  鄉鎮市區  押金月數  月管理費  需要管理費？  提供車位？  建築類型  物件類型  自報頂加？  ...  \\\n",
       "0      1  11  1111  2.00  0.00       0      0     0     0      0  ...   \n",
       "1      1  11  1117  2.00  0.00       0      0     2     0      0  ...   \n",
       "2      1  17  1700  0.00  0.00       0      0     2     2      0  ...   \n",
       "3      1  17  1701  2.00  0.00       0      0     0     2      0  ...   \n",
       "4      1  11  1111  2.00  0.00       0      0     2     0      0  ...   \n",
       "\n",
       "   提供家具_電視？  提供家具_熱水器？  提供家具_冷氣？  提供家具_沙發？  提供家具_洗衣機？  提供家具_衣櫃？  提供家具_冰箱？  \\\n",
       "0         0          1         1         0          0         1         0   \n",
       "1         0          1         1         1          1         1         1   \n",
       "2         1          1         1         1          1         1         1   \n",
       "3         1          1         1         1          1         1         1   \n",
       "4         0          1         1         1          1         1         1   \n",
       "\n",
       "   提供家具_網路？  提供家具_第四台？  提供家具_天然瓦斯？  \n",
       "0         0          0           0  \n",
       "1         0          0           1  \n",
       "2         0          1           1  \n",
       "3         1          0           0  \n",
       "4         0          0           1  \n",
       "\n",
       "[5 rows x 51 columns]"
      ]
     },
     "execution_count": 37,
     "metadata": {
      "tags": []
     },
     "output_type": "execute_result"
    }
   ],
   "source": [
    "x_train = df_train_x.reset_index(drop=True)\n",
    "x_test = df_test_x.reset_index(drop=True)\n",
    "x_train.head()"
   ]
  },
  {
   "cell_type": "code",
   "execution_count": null,
   "metadata": {
    "id": "1fzH6iCDuqMm"
   },
   "outputs": [],
   "source": [
    "y_train = df_train_y\n",
    "y_test = df_test_y"
   ]
  },
  {
   "cell_type": "code",
   "execution_count": null,
   "metadata": {
    "id": "jgF5J28ouqMm"
   },
   "outputs": [],
   "source": [
    "# 保留 分租套房、獨立套房、雅房、整層住家的index\n",
    "isuite_index = x_train.loc[(x_train['物件類型']==1)].index  # 獨立套房\n",
    "dsuite_index = x_train.loc[(x_train['物件類型']==2)].index  # 分租套房\n",
    "room_index = x_train.loc[(x_train['物件類型']==3)].index    # 雅房\n",
    "floor_index = x_train.loc[(x_train['物件類型']==0)].index   # 整層住家\n",
    "\n",
    "isuite_index_test = x_test.loc[(x_test['物件類型']==1)].index  # 獨立套房\n",
    "dsuite_index_test = x_test.loc[(x_test['物件類型']==2)].index  # 分租套房\n",
    "room_index_test = x_test.loc[(x_test['物件類型']==3)].index    # 雅房\n",
    "floor_index_test = x_test.loc[(x_test['物件類型']==0)].index   # 整層住家"
   ]
  },
  {
   "cell_type": "markdown",
   "metadata": {
    "id": "dWSntFteeWix"
   },
   "source": [
    "### 第二階段：針對提升模型收斂效率和測試集預測能力的處理"
   ]
  },
  {
   "cell_type": "markdown",
   "metadata": {
    "id": "Y51NbopNft9C"
   },
   "source": [
    "#### (1) 特徵縮放(Feature Scaling)"
   ]
  },
  {
   "cell_type": "code",
   "execution_count": null,
   "metadata": {
    "colab": {
     "base_uri": "https://localhost:8080/"
    },
    "id": "7QlRtfjGeUxd",
    "outputId": "8cdc378b-c9c3-430a-d000-ed5d88a2710d"
   },
   "outputs": [
    {
     "name": "stdout",
     "output_type": "stream",
     "text": [
      "17\n"
     ]
    }
   ],
   "source": [
    "from sklearn.preprocessing import StandardScaler, OneHotEncoder\n",
    "scaler = StandardScaler()\n",
    "# x_train_std = scaler.fit_transform(x_train)\n",
    "\n",
    "enc = OneHotEncoder(handle_unknown='ignore')\n",
    "\n",
    "\n",
    "#這邊做了一些更改\n",
    "#有鄉鎮市區就不需要縣市欄位\n",
    "#把電梯丟進去暫時不考慮大樓華廈與公寓的差異\n",
    "\n",
    "con_features = ['重複物件數','押金月數','所在樓層','建物樓高','坪數',\n",
    "                '陽台數','衛浴數','房數','客廳數','附近的捷運站數','附近的公車站數',\n",
    "       '附近的火車站數','附近的高鐵站數','附近的公共自行車數（實驗中）']\n",
    "cat_features = ['鄉鎮市區','物件類型','刊登者類型'] \n",
    "\n",
    "\n",
    "x_train_con = x_train[con_features]\n",
    "x_train_cat = x_train[cat_features]\n",
    "\n",
    "x_train_con_std = scaler.fit_transform(x_train_con)\n",
    "x_train_cat_one_hot = enc.fit_transform(x_train_cat).toarray()\n",
    "\n",
    "gg = con_features + cat_features\n",
    "print(len(gg))\n",
    "x_train_remain = x_train.drop(gg, axis=1)\n",
    "#x_train_remain <- 跑這行我的電腦會當機，讓我先暫時拿掉XD (by君儒)\n",
    "x_train_std = x_train_remain.join(pd.DataFrame(x_train_con_std, columns=con_features))\n",
    "x_train_std = x_train_std.join(pd.DataFrame(x_train_cat_one_hot, columns = enc.get_feature_names()))\n",
    "#x_train_std\n",
    "# pd.get_dummies(x_train) 需要資料裡面是真的類別，而非17、11這樣的數字，所以用OneHotEncoder\n"
   ]
  },
  {
   "cell_type": "code",
   "execution_count": null,
   "metadata": {
    "id": "Pl6TDJXTsh6C",
    "outputId": "cbf44fc9-f294-486a-bef8-26521d8e362d"
   },
   "outputs": [
    {
     "data": {
      "text/plain": [
       "array([[0., 0., 0., ..., 0., 1., 0.],\n",
       "       [0., 0., 0., ..., 0., 0., 1.],\n",
       "       [0., 0., 0., ..., 0., 1., 0.],\n",
       "       ...,\n",
       "       [0., 0., 0., ..., 0., 0., 1.],\n",
       "       [0., 0., 0., ..., 0., 0., 1.],\n",
       "       [1., 0., 0., ..., 0., 0., 1.]])"
      ]
     },
     "execution_count": 41,
     "metadata": {
      "tags": []
     },
     "output_type": "execute_result"
    }
   ],
   "source": [
    "x_train_cat_one_hot"
   ]
  },
  {
   "cell_type": "code",
   "execution_count": null,
   "metadata": {
    "id": "wpbtCYBY2Bwy"
   },
   "outputs": [],
   "source": [
    "# test OneHot\n",
    "x_test_con = x_test[con_features]\n",
    "x_test_cat = x_test[cat_features]\n",
    "\n",
    "# 都只要transform就好\n",
    "x_test_con_std = scaler.transform(x_test_con)\n",
    "x_test_cat_one_hot = enc.transform(x_test_cat).toarray()\n",
    "\n",
    "x_test_remain = x_test.drop(gg,axis=1)\n",
    "#x_test_remain\n",
    "x_test_std = x_test_remain.join(pd.DataFrame(x_test_con_std, columns=con_features))\n",
    "x_test_std = x_test_std.join(pd.DataFrame(x_test_cat_one_hot, columns = enc.get_feature_names()))\n",
    "#x_test_std"
   ]
  },
  {
   "cell_type": "code",
   "execution_count": null,
   "metadata": {
    "id": "3vg4ODHORfdn"
   },
   "outputs": [],
   "source": [
    "#最後再篩一下數據\n",
    "#縣市刪除\n",
    "#管理費移除\n",
    "#重複物件數移除\\\n",
    "x_train_std = x_train_std.drop(['縣市', '重複物件數','需要管理費？'], axis = 1)\n",
    "x_test_std = x_test_std.drop(['縣市', '重複物件數','需要管理費？'], axis = 1)\n",
    "\n",
    "x_train = x_train.drop(['縣市', '重複物件數','需要管理費？'], axis = 1)\n",
    "x_test = x_test.drop(['縣市', '重複物件數','需要管理費？'], axis = 1)"
   ]
  },
  {
   "cell_type": "code",
   "execution_count": null,
   "metadata": {
    "id": "0XwRLAARsh6D",
    "outputId": "1524ecae-fd3e-4d06-a6f5-49e3d8fb207a"
   },
   "outputs": [
    {
     "data": {
      "text/plain": [
       "Index(['月管理費', '提供車位？', '建築類型', '自報頂加？', '額外費用_電費？', '額外費用_水費？', '額外費用_瓦斯？',\n",
       "       '額外費用_網路？', '額外費用_第四台？', '附近有_學校？', '附近有_公園？', '附近有_百貨公司？', '附近有_超商？',\n",
       "       '附近有_傳統市場？', '附近有_夜市？', '附近有_醫療機構？', '有性別限制？', '可炊？', '可寵？', '提供家具_床？',\n",
       "       '提供家具_桌子？', '提供家具_椅子？', '提供家具_電視？', '提供家具_熱水器？', '提供家具_冷氣？', '提供家具_沙發？',\n",
       "       '提供家具_洗衣機？', '提供家具_衣櫃？', '提供家具_冰箱？', '提供家具_網路？', '提供家具_第四台？',\n",
       "       '提供家具_天然瓦斯？', '押金月數', '所在樓層', '建物樓高', '坪數', '陽台數', '衛浴數', '房數', '客廳數',\n",
       "       '附近的捷運站數', '附近的公車站數', '附近的火車站數', '附近的高鐵站數', '附近的公共自行車數（實驗中）', 'x0_1100',\n",
       "       'x0_1101', 'x0_1102', 'x0_1103', 'x0_1104', 'x0_1105', 'x0_1106',\n",
       "       'x0_1108', 'x0_1109', 'x0_1110', 'x0_1111', 'x0_1112', 'x0_1113',\n",
       "       'x0_1114', 'x0_1115', 'x0_1116', 'x0_1117', 'x0_1118', 'x0_1119',\n",
       "       'x0_1120', 'x0_1121', 'x0_1122', 'x0_1123', 'x0_1124', 'x0_1125',\n",
       "       'x0_1126', 'x0_1127', 'x0_1128', 'x0_1700', 'x0_1701', 'x0_1702',\n",
       "       'x0_1703', 'x0_1704', 'x0_1705', 'x0_1706', 'x0_1707', 'x0_1708',\n",
       "       'x0_1709', 'x0_1710', 'x0_1711', 'x1_0', 'x1_1', 'x1_2', 'x1_3', 'x2_0',\n",
       "       'x2_1', 'x2_2'],\n",
       "      dtype='object')"
      ]
     },
     "execution_count": 45,
     "metadata": {
      "tags": []
     },
     "output_type": "execute_result"
    }
   ],
   "source": [
    "x_train_std.columns"
   ]
  },
  {
   "cell_type": "markdown",
   "metadata": {
    "id": "H2aY6hFAyc6M"
   },
   "source": [
    "## 三、用訓練集開始建立租金預測迴歸模型，之後對測試集進行預測"
   ]
  },
  {
   "cell_type": "markdown",
   "metadata": {
    "id": "F3mwkhPQyneW"
   },
   "source": [
    "### 簡單線性迴歸模型-lasso"
   ]
  },
  {
   "cell_type": "code",
   "execution_count": null,
   "metadata": {
    "colab": {
     "base_uri": "https://localhost:8080/"
    },
    "id": "VuLQkDAYidJ1",
    "outputId": "f4e606d4-96ac-43e6-ef09-712844788536"
   },
   "outputs": [
    {
     "name": "stdout",
     "output_type": "stream",
     "text": [
      "intercept: 11935.7299468187\n",
      "coefficient: [     1.70558256   2675.06303559    934.61084706  -2107.19344465\n",
      "  -1024.07692367    175.97018598   1085.12201496   -651.98150703\n",
      "   -290.19184678    209.52560777   -776.93324368    332.91758322\n",
      "    553.71145372   -181.04464174   -569.27287332     66.87474916\n",
      "   -728.94753386     51.82003695   -656.79188318   -435.15061021\n",
      "     -6.77556191    344.69604654   2334.85303484  -1194.18232046\n",
      "     36.41197638   1133.11811748   1264.42317346    898.40256482\n",
      "   1216.90217766    195.59631717   -276.95281069    276.48141892\n",
      "   -224.67757041    -32.83545631    801.74070428  10614.83748093\n",
      "    -80.53110773   1407.4780165    -549.98206207    299.56636036\n",
      "    348.25586505   -297.94739082   -163.72531499      0.\n",
      "     30.08636274  -5895.96141537 -10501.01730056   2242.06070667\n",
      "   1516.98176357  -2440.8971456   -6437.9739995    -450.95114605\n",
      "  -1249.92894502    938.10738642   -744.98169614   2364.6234953\n",
      "  -4631.32179243  -2348.78770182   3176.45152735  -1450.61543258\n",
      "   -953.7820788   -7525.41731056  -1704.37502907  -5467.87183896\n",
      "  -5246.56104931  -9091.21227496  -6410.03551469  -6000.94912685\n",
      "   1333.41193779  -6081.63378737  -3345.44532671  -7633.70512303\n",
      "  -6664.17800253   7979.45403876   9179.94040484  10676.22080332\n",
      "   7044.39185276   4193.58372015   5824.88919693   8391.88486969\n",
      "   7472.71822012  12324.40251441   3722.07508001   8777.85099789\n",
      "   5118.55452193   1787.5318528    -636.45810877   -813.69235734\n",
      "   -337.3813867    -907.2716247    -437.82022564   1345.09185032]\n",
      "R-squared of training set:  0.7966\n"
     ]
    }
   ],
   "source": [
    "from sklearn.linear_model import LinearRegression, Lasso\n",
    "from sklearn.metrics import mean_absolute_error,mean_squared_error\n",
    "model = LinearRegression()\n",
    "#model = linear_model.Lasso(alpha=0.1)\n",
    "model.fit(np.asarray(x_train_std), y_train)\n",
    "print('intercept:',model.intercept_)\n",
    "print('coefficient:',model.coef_)\n",
    "print(f'R-squared of training set: {model.score(np.asarray(x_train_std), y_train): .4f}')"
   ]
  },
  {
   "cell_type": "code",
   "execution_count": null,
   "metadata": {
    "colab": {
     "base_uri": "https://localhost:8080/",
     "height": 425
    },
    "id": "fzJ7abd36pUh",
    "outputId": "8b4cdb60-d73c-4999-bcdb-22b8b6bb63d8"
   },
   "outputs": [
    {
     "name": "stdout",
     "output_type": "stream",
     "text": [
      "MAE of testing set: 5187.558279358079\n",
      "RMSE of testing set: 8440.775025150377\n"
     ]
    }
   ],
   "source": [
    "y_test_pred = model.predict(np.asarray(x_test_std))\n",
    "print(f'MAE of testing set: {mean_absolute_error(y_test_pred, y_test)}')\n",
    "print(f'RMSE of testing set: {np.sqrt(mean_squared_error(y_test_pred, y_test))}')\n",
    "\n",
    "y_compare = pd.DataFrame({'y_pred': y_test_pred,'y_true': y_test})"
   ]
  },
  {
   "cell_type": "code",
   "execution_count": null,
   "metadata": {
    "id": "MpC1WLKAsh6G",
    "outputId": "8f8be33e-c91b-4aa5-930a-d4eb06aef4cb"
   },
   "outputs": [
    {
     "data": {
      "image/png": "[encoded data removed]",
      "text/plain": [
       "<Figure size 360x720 with 1 Axes>"
      ]
     },
     "metadata": {
      "needs_background": "light",
      "tags": []
     },
     "output_type": "display_data"
    }
   ],
   "source": [
    "from matplotlib.font_manager import FontProperties\n",
    "import matplotlib.pyplot as plt\n",
    "\n",
    "importance = model.coef_\n",
    "abs_importance = abs(importance)\n",
    "feature_name = list(x_train_std.columns.copy())\n",
    "\n",
    "feature = []\n",
    "for i in x_train_std.columns:\n",
    "    feature.append(str(i))\n",
    "\n",
    "\n",
    "feature = []\n",
    "for i in x_train_std.columns:\n",
    "    feature.append(str(i))\n",
    "plt.rcParams['font.sans-serif'] = ['Microsoft JhengHei'] \n",
    "plt.rcParams['axes.unicode_minus'] = False\n",
    "plt.figure(figsize=(5,10))\n",
    "plt.title(\"Lasso linear regression\")\n",
    "plt.barh(np.array(feature)[np.argsort(-abs_importance)[:20]], importance[np.argsort(-abs_importance)][0:20] )\n",
    "# plt.show()\n",
    "plt.savefig('Lasso_linear_regression_3.png')\n",
    "plt.show()"
   ]
  },
  {
   "cell_type": "markdown",
   "metadata": {
    "id": "ImeydHLwK6Sq"
   },
   "source": [
    "### 簡單線性迴歸模型-Ridge"
   ]
  },
  {
   "cell_type": "markdown",
   "metadata": {},
   "source": [
    "**版本一：基本版**"
   ]
  },
  {
   "cell_type": "code",
   "execution_count": null,
   "metadata": {
    "colab": {
     "base_uri": "https://localhost:8080/"
    },
    "id": "DtQw3WYNKyQk",
    "outputId": "7aa30ab0-7c6c-42f2-bd9f-ab34a8f3c7b9"
   },
   "outputs": [
    {
     "name": "stdout",
     "output_type": "stream",
     "text": [
      "intercept: 12029.843101946526\n",
      "coefficient: [     1.70569259   2674.59508213    934.61626867  -2106.81939885\n",
      "  -1023.88986059    175.82246822   1085.05447795   -652.17520838\n",
      "   -290.10658272    209.38369858   -776.88919905    333.20200433\n",
      "    553.54629017   -180.90923543   -569.183125       66.9506016\n",
      "   -728.75795061     51.75590553   -656.87752652   -435.33354289\n",
      "     -6.91552584    344.66785899   2334.95341666  -1194.04547775\n",
      "     36.99531309   1133.14203965   1264.50956612    898.45021168\n",
      "   1216.92852804    195.63489554   -277.05827223    276.88574625\n",
      "   -224.71366877    -32.84848454    801.67531328  10614.73227656\n",
      "    -80.64111728   1407.45663576   -549.94915344    299.67947555\n",
      "    348.52899702   -297.99963589   -163.76073556      0.\n",
      "     30.09049244  -5989.17570314 -10578.04455696   2147.15539106\n",
      "   1422.12499361  -2534.32790429  -6527.39217926   -545.49286123\n",
      "  -1209.49243961    843.33318785   -839.56261914   2269.75844151\n",
      "  -4725.20976574  -2442.54865262   3081.29091225  -1544.97732655\n",
      "  -1047.83678782  -7619.45932238  -1797.17479527  -4943.55909381\n",
      "  -5307.8167967   -8163.82683896  -6038.69824281  -6053.19768117\n",
      "   1238.52294305  -5866.83939267  -3408.29334047  -6623.58649342\n",
      "  -6755.31585393   7884.08732914   9084.14754159  10580.56046939\n",
      "   6949.0791452    4098.33847073   5729.21909036   8296.41532057\n",
      "   7376.85028513  12228.7228728    3626.91984065   8682.11021294\n",
      "   5023.19224826   1787.51218376   -636.3662136    -813.81704647\n",
      "   -337.32863229   -907.49411772   -437.7599584    1345.25386444]\n",
      "R-squared of training set:  0.7966\n"
     ]
    }
   ],
   "source": [
    "from sklearn.linear_model import Ridge\n",
    "import numpy as np\n",
    "clf = Ridge(alpha=1.0)\n",
    "clf.fit(np.asarray(x_train_std), y_train)\n",
    "print('intercept:',clf.intercept_)\n",
    "print('coefficient:',clf.coef_)\n",
    "print(f'R-squared of training set: {clf.score(np.asarray(x_train_std), y_train): .4f}')"
   ]
  },
  {
   "cell_type": "code",
   "execution_count": null,
   "metadata": {
    "id": "2YXVHJGRsh6G",
    "outputId": "b3434a0c-de5f-4348-d798-bbc53c3c76b9"
   },
   "outputs": [
    {
     "name": "stdout",
     "output_type": "stream",
     "text": [
      "MAE of testing set: 5187.497977922497\n",
      "RMSE of testing set: 8440.812147593993\n"
     ]
    },
    {
     "data": {
      "text/html": [
       "<div>\n",
       "<style scoped>\n",
       "    .dataframe tbody tr th:only-of-type {\n",
       "        vertical-align: middle;\n",
       "    }\n",
       "\n",
       "    .dataframe tbody tr th {\n",
       "        vertical-align: top;\n",
       "    }\n",
       "\n",
       "    .dataframe thead th {\n",
       "        text-align: right;\n",
       "    }\n",
       "</style>\n",
       "<table border=\"1\" class=\"dataframe\">\n",
       "  <thead>\n",
       "    <tr style=\"text-align: right;\">\n",
       "      <th></th>\n",
       "      <th>y_pred</th>\n",
       "      <th>y_true</th>\n",
       "    </tr>\n",
       "  </thead>\n",
       "  <tbody>\n",
       "    <tr>\n",
       "      <th>97205</th>\n",
       "      <td>29878.44</td>\n",
       "      <td>23500</td>\n",
       "    </tr>\n",
       "    <tr>\n",
       "      <th>674857</th>\n",
       "      <td>-4060.88</td>\n",
       "      <td>5000</td>\n",
       "    </tr>\n",
       "    <tr>\n",
       "      <th>413487</th>\n",
       "      <td>3587.11</td>\n",
       "      <td>7000</td>\n",
       "    </tr>\n",
       "    <tr>\n",
       "      <th>104973</th>\n",
       "      <td>14055.54</td>\n",
       "      <td>14000</td>\n",
       "    </tr>\n",
       "    <tr>\n",
       "      <th>698905</th>\n",
       "      <td>28106.12</td>\n",
       "      <td>22000</td>\n",
       "    </tr>\n",
       "    <tr>\n",
       "      <th>...</th>\n",
       "      <td>...</td>\n",
       "      <td>...</td>\n",
       "    </tr>\n",
       "    <tr>\n",
       "      <th>109782</th>\n",
       "      <td>24478.19</td>\n",
       "      <td>26000</td>\n",
       "    </tr>\n",
       "    <tr>\n",
       "      <th>574194</th>\n",
       "      <td>21504.34</td>\n",
       "      <td>20000</td>\n",
       "    </tr>\n",
       "    <tr>\n",
       "      <th>524433</th>\n",
       "      <td>4390.13</td>\n",
       "      <td>5500</td>\n",
       "    </tr>\n",
       "    <tr>\n",
       "      <th>469983</th>\n",
       "      <td>4899.28</td>\n",
       "      <td>6000</td>\n",
       "    </tr>\n",
       "    <tr>\n",
       "      <th>569626</th>\n",
       "      <td>2898.19</td>\n",
       "      <td>7500</td>\n",
       "    </tr>\n",
       "  </tbody>\n",
       "</table>\n",
       "<p>131454 rows × 2 columns</p>\n",
       "</div>"
      ],
      "text/plain": [
       "         y_pred  y_true\n",
       "97205  29878.44   23500\n",
       "674857 -4060.88    5000\n",
       "413487  3587.11    7000\n",
       "104973 14055.54   14000\n",
       "698905 28106.12   22000\n",
       "...         ...     ...\n",
       "109782 24478.19   26000\n",
       "574194 21504.34   20000\n",
       "524433  4390.13    5500\n",
       "469983  4899.28    6000\n",
       "569626  2898.19    7500\n",
       "\n",
       "[131454 rows x 2 columns]"
      ]
     },
     "execution_count": 70,
     "metadata": {
      "tags": []
     },
     "output_type": "execute_result"
    }
   ],
   "source": [
    "from sklearn.metrics import mean_absolute_error,mean_squared_error\n",
    "y_test_pred = clf.predict(np.asarray(x_test_std))\n",
    "print(f'MAE of testing set: {mean_absolute_error(y_test_pred, y_test)}')\n",
    "print(f'RMSE of testing set: {np.sqrt(mean_squared_error(y_test_pred, y_test))}')\n",
    "y_compare = pd.DataFrame({'y_pred': y_test_pred,'y_true': y_test})\n",
    "y_compare"
   ]
  },
  {
   "cell_type": "code",
   "execution_count": null,
   "metadata": {
    "id": "ik-Z6mSUsh6H",
    "outputId": "79fe410b-a02f-474f-acd5-4f88736776de"
   },
   "outputs": [
    {
     "data": {
      "image/png": "[encoded data removed]",
      "text/plain": [
       "<Figure size 360x720 with 1 Axes>"
      ]
     },
     "metadata": {
      "needs_background": "light",
      "tags": []
     },
     "output_type": "display_data"
    }
   ],
   "source": [
    "from matplotlib.font_manager import FontProperties\n",
    "import matplotlib.pyplot as plt\n",
    "\n",
    "importance = clf.coef_\n",
    "abs_importance = abs(importance)\n",
    "feature_name = list(x_train_std.columns.copy())\n",
    "\n",
    "feature = []\n",
    "for i in x_train_std.columns:\n",
    "    feature.append(str(i))\n",
    "\n",
    "\n",
    "feature = []\n",
    "for i in x_train_std.columns:\n",
    "    feature.append(str(i))\n",
    "plt.rcParams['font.sans-serif'] = ['Microsoft JhengHei'] \n",
    "plt.rcParams['axes.unicode_minus'] = False\n",
    "plt.figure(figsize=(5,10))\n",
    "plt.title(\"Ridge linear regression\")\n",
    "plt.barh(np.array(feature)[np.argsort(-abs_importance)[:20]], importance[np.argsort(-abs_importance)][0:20] )\n",
    "# plt.show()\n",
    "plt.savefig('Ridge_linear_regression_3.png')\n",
    "plt.show()"
   ]
  },
  {
   "cell_type": "code",
   "execution_count": null,
   "metadata": {
    "id": "X56pIDLLuqM5",
    "outputId": "9803c77e-1b4d-45d6-fb28-b83beabfac67"
   },
   "outputs": [
    {
     "data": {
      "image/png": "[encoded data removed]",
      "text/plain": [
       "<Figure size 504x504 with 1 Axes>"
      ]
     },
     "metadata": {
      "needs_background": "light",
      "tags": []
     },
     "output_type": "display_data"
    }
   ],
   "source": [
    "# 45度線圖\n",
    "# 做出四種物件的x_test、y_test\n",
    "x_test_isuite = x_test_std.loc[isuite_index_test]\n",
    "x_test_dsuite = x_test_std.loc[dsuite_index_test]\n",
    "x_test_room = x_test_std.loc[room_index_test]\n",
    "x_test_floor = x_test_std.loc[floor_index_test]\n",
    "\n",
    "y_test_1 = y_test.reset_index(drop=True)\n",
    "y_test_isuite = y_test_1[isuite_index_test]\n",
    "y_test_dsuite = y_test_1[dsuite_index_test]\n",
    "y_test_room = y_test_1[room_index_test]\n",
    "y_test_floor = y_test_1[floor_index_test]\n",
    "\n",
    "y_test_pred_isuite = clf.predict(np.asarray(x_test_isuite))\n",
    "y_test_pred_dsuite = clf.predict(np.asarray(x_test_dsuite))\n",
    "y_test_pred_room = clf.predict(np.asarray(x_test_room))\n",
    "y_test_pred_floor = clf.predict(np.asarray(x_test_floor))\n",
    "\n",
    "# 繪圖\n",
    "plt.figure(figsize=(7,7))\n",
    "plt.scatter(y_test_isuite, y_test_pred_isuite, alpha=0.4, color='red', label=\"獨立套房\")\n",
    "plt.scatter(y_test_dsuite, y_test_pred_dsuite, alpha=0.3, color='blue', label=\"分租套房\")\n",
    "plt.scatter(y_test_room, y_test_pred_room, alpha=0.2, color='green', label=\"雅房\")\n",
    "plt.scatter(y_test_floor, y_test_pred_floor, alpha=0.1, color='yellow', label=\"整層住家\")\n",
    "plt.axline([min(y_test), min(y_test)], [max(y_test), max(y_test)], color='r')\n",
    "\n",
    "plt.xlim(min(y_test), max(y_test))\n",
    "plt.ylim(min(y_test), max(y_test))\n",
    "\n",
    "plt.xlabel(\"y_test\", fontsize=15)\n",
    "plt.ylabel(\"y_test_pred\", fontsize=15)\n",
    "plt.title(\"Ridge regression, Y vs Y-hat\", fontsize=15)\n",
    "plt.legend(fontsize=15)\n",
    "plt.show()"
   ]
  },
  {
   "cell_type": "markdown",
   "metadata": {
    "id": "_h5jMnEL3174"
   },
   "source": [
    "#### 版本二：對房租取log(預測效果看起來更好)"
   ]
  },
  {
   "cell_type": "code",
   "execution_count": null,
   "metadata": {
    "colab": {
     "base_uri": "https://localhost:8080/",
     "height": 265
    },
    "id": "Ec2mCNb95G3l",
    "outputId": "d4548958-40ab-4319-dbb9-18347fc63a3d"
   },
   "outputs": [
    {
     "data": {
      "image/png": "[encoded data removed]",
      "text/plain": [
       "<Figure size 432x288 with 1 Axes>"
      ]
     },
     "metadata": {
      "needs_background": "light",
      "tags": []
     },
     "output_type": "display_data"
    }
   ],
   "source": [
    "plt.hist(y_train, bins = 100)\n",
    "plt.show()"
   ]
  },
  {
   "cell_type": "code",
   "execution_count": null,
   "metadata": {
    "colab": {
     "base_uri": "https://localhost:8080/",
     "height": 265
    },
    "id": "tdvVytg35PSK",
    "outputId": "1a416fc3-403b-4116-ab57-7bf1213b83c8"
   },
   "outputs": [
    {
     "data": {
      "image/png": "[encoded data removed]",
      "text/plain": [
       "<Figure size 432x288 with 1 Axes>"
      ]
     },
     "metadata": {
      "needs_background": "light",
      "tags": []
     },
     "output_type": "display_data"
    }
   ],
   "source": [
    "plt.hist(np.log(y_train), bins = 100)\n",
    "plt.show()"
   ]
  },
  {
   "cell_type": "code",
   "execution_count": null,
   "metadata": {
    "colab": {
     "base_uri": "https://localhost:8080/"
    },
    "id": "XD25AbNb31g0",
    "outputId": "fffe4012-26d7-42a3-fc1b-09029e492dff"
   },
   "outputs": [
    {
     "name": "stdout",
     "output_type": "stream",
     "text": [
      "intercept: 9.131286932029258\n",
      "coefficient: [ 0.00001504  0.0803673   0.07198192 -0.1152475  -0.02273779  0.01165607\n",
      "  0.03996067 -0.01084725 -0.0202489  -0.00660719  0.0005975   0.01077223\n",
      "  0.00878233 -0.00319384 -0.02221983  0.00413671 -0.06257021  0.10446748\n",
      " -0.02419833 -0.06779764 -0.01752312  0.00086506  0.06135433 -0.03859832\n",
      "  0.04134829  0.15037061  0.02234946  0.00520936  0.00763501 -0.0201324\n",
      " -0.00580289  0.02995468  0.00219738 -0.00369569  0.05363915  0.24641044\n",
      " -0.00479857  0.01771844  0.02527163  0.03658257  0.01494743 -0.00687944\n",
      " -0.00286354 -0.          0.00351448 -0.23277897 -0.71131723  0.14137683\n",
      "  0.11747938 -0.03994072 -0.22839126 -0.00628926 -0.07050249  0.12308026\n",
      "  0.02740407  0.14114051 -0.05193166 -0.09802632  0.19117378 -0.00588158\n",
      " -0.08338082 -0.31779336 -0.06292147  0.00576533 -0.3830549  -0.42109041\n",
      " -0.64244904 -0.4919676   0.1288711  -0.54243609 -0.31885217 -0.55967511\n",
      " -0.29689761  0.41562662  0.45828878  0.49910442  0.37666539  0.26941401\n",
      "  0.31993289  0.37567767  0.39463026  0.54764057  0.26073497  0.46933237\n",
      "  0.30223889  0.29934427  0.08160113 -0.02119689 -0.35974851 -0.03121973\n",
      " -0.00781769  0.03903742]\n",
      "R-squared of training set:  0.8821\n"
     ]
    }
   ],
   "source": [
    "from sklearn.linear_model import LinearRegression, Lasso\n",
    "from sklearn.metrics import mean_absolute_error\n",
    "model = LinearRegression()\n",
    "#model = linear_model.Lasso(alpha=0.1)\n",
    "model.fit(np.asarray(x_train_std), np.log(y_train))\n",
    "print('intercept:',model.intercept_)\n",
    "print('coefficient:',model.coef_)\n",
    "print(f'R-squared of training set: {model.score(np.asarray(x_train_std), np.log(y_train)): .4f}')"
   ]
  },
  {
   "cell_type": "code",
   "execution_count": null,
   "metadata": {
    "colab": {
     "base_uri": "https://localhost:8080/",
     "height": 425
    },
    "id": "qfKm-ivI4CzG",
    "outputId": "a9a794d7-d4ce-43d9-a608-5a5a2811d274"
   },
   "outputs": [
    {
     "name": "stdout",
     "output_type": "stream",
     "text": [
      "MAE of testing set: 4215.688349240349\n"
     ]
    },
    {
     "data": {
      "text/html": [
       "<div>\n",
       "<style scoped>\n",
       "    .dataframe tbody tr th:only-of-type {\n",
       "        vertical-align: middle;\n",
       "    }\n",
       "\n",
       "    .dataframe tbody tr th {\n",
       "        vertical-align: top;\n",
       "    }\n",
       "\n",
       "    .dataframe thead th {\n",
       "        text-align: right;\n",
       "    }\n",
       "</style>\n",
       "<table border=\"1\" class=\"dataframe\">\n",
       "  <thead>\n",
       "    <tr style=\"text-align: right;\">\n",
       "      <th></th>\n",
       "      <th>y_pred</th>\n",
       "      <th>y_true</th>\n",
       "    </tr>\n",
       "  </thead>\n",
       "  <tbody>\n",
       "    <tr>\n",
       "      <th>97205</th>\n",
       "      <td>23865.19</td>\n",
       "      <td>23500</td>\n",
       "    </tr>\n",
       "    <tr>\n",
       "      <th>674857</th>\n",
       "      <td>4564.61</td>\n",
       "      <td>5000</td>\n",
       "    </tr>\n",
       "    <tr>\n",
       "      <th>413487</th>\n",
       "      <td>6621.42</td>\n",
       "      <td>7000</td>\n",
       "    </tr>\n",
       "    <tr>\n",
       "      <th>104973</th>\n",
       "      <td>16068.82</td>\n",
       "      <td>14000</td>\n",
       "    </tr>\n",
       "    <tr>\n",
       "      <th>698905</th>\n",
       "      <td>28318.86</td>\n",
       "      <td>22000</td>\n",
       "    </tr>\n",
       "    <tr>\n",
       "      <th>...</th>\n",
       "      <td>...</td>\n",
       "      <td>...</td>\n",
       "    </tr>\n",
       "    <tr>\n",
       "      <th>109782</th>\n",
       "      <td>25476.40</td>\n",
       "      <td>26000</td>\n",
       "    </tr>\n",
       "    <tr>\n",
       "      <th>574194</th>\n",
       "      <td>19185.59</td>\n",
       "      <td>20000</td>\n",
       "    </tr>\n",
       "    <tr>\n",
       "      <th>524433</th>\n",
       "      <td>5739.94</td>\n",
       "      <td>5500</td>\n",
       "    </tr>\n",
       "    <tr>\n",
       "      <th>469983</th>\n",
       "      <td>7566.31</td>\n",
       "      <td>6000</td>\n",
       "    </tr>\n",
       "    <tr>\n",
       "      <th>569626</th>\n",
       "      <td>8766.39</td>\n",
       "      <td>7500</td>\n",
       "    </tr>\n",
       "  </tbody>\n",
       "</table>\n",
       "<p>131454 rows × 2 columns</p>\n",
       "</div>"
      ],
      "text/plain": [
       "         y_pred  y_true\n",
       "97205  23865.19   23500\n",
       "674857  4564.61    5000\n",
       "413487  6621.42    7000\n",
       "104973 16068.82   14000\n",
       "698905 28318.86   22000\n",
       "...         ...     ...\n",
       "109782 25476.40   26000\n",
       "574194 19185.59   20000\n",
       "524433  5739.94    5500\n",
       "469983  7566.31    6000\n",
       "569626  8766.39    7500\n",
       "\n",
       "[131454 rows x 2 columns]"
      ]
     },
     "execution_count": 129,
     "metadata": {
      "tags": []
     },
     "output_type": "execute_result"
    }
   ],
   "source": [
    "y_test_pred = model.predict(np.asarray(x_test_std))\n",
    "print(f'MAE of testing set: {mean_absolute_error(np.exp(y_test_pred), y_test)}')\n",
    "y_compare = pd.DataFrame({'y_pred': np.exp(y_test_pred),'y_true': y_test})\n",
    "y_compare"
   ]
  },
  {
   "cell_type": "code",
   "execution_count": null,
   "metadata": {
    "id": "987W4PvYsh6J",
    "outputId": "e1cdc0db-f68a-4a7b-b3c6-d6137e6b0005"
   },
   "outputs": [
    {
     "name": "stdout",
     "output_type": "stream",
     "text": [
      "MAE of testing set: 4215.688349240349\n",
      "RMSE of testing set: 8849.255623218225\n"
     ]
    }
   ],
   "source": [
    "from sklearn.linear_model import Ridge\n",
    "import numpy as np\n",
    "from sklearn.metrics import mean_absolute_error,mean_squared_error\n",
    "\n",
    "y_test_pred = model.predict(np.asarray(x_test_std))\n",
    "print(f'MAE of testing set: {mean_absolute_error(np.exp(y_test_pred), y_test)}')\n",
    "print(f'RMSE of testing set: {np.sqrt(mean_squared_error(np.exp(y_test_pred), y_test))}')\n",
    "y_compare = pd.DataFrame({'y_pred': np.exp(y_test_pred),'y_true': y_test})\n"
   ]
  },
  {
   "cell_type": "code",
   "execution_count": null,
   "metadata": {
    "id": "NRsoTQyash6J",
    "outputId": "2cbd3896-2e60-4466-c8a6-c72a1f7cf437"
   },
   "outputs": [
    {
     "data": {
      "image/png": "[encoded data removed]",
      "text/plain": [
       "<Figure size 360x720 with 1 Axes>"
      ]
     },
     "metadata": {
      "needs_background": "light",
      "tags": []
     },
     "output_type": "display_data"
    }
   ],
   "source": [
    "from matplotlib.font_manager import FontProperties\n",
    "import matplotlib.pyplot as plt\n",
    "\n",
    "importance = model.coef_\n",
    "abs_importance = abs(importance)\n",
    "feature_name = list(x_train_std.columns.copy())\n",
    "\n",
    "feature = []\n",
    "for i in x_train_std.columns:\n",
    "    feature.append(str(i))\n",
    "\n",
    "plt.rcParams['font.sans-serif'] = ['Microsoft JhengHei'] \n",
    "plt.rcParams['axes.unicode_minus'] = False\n",
    "plt.figure(figsize=(5,10))\n",
    "plt.title(\"Lasso linear regression\")\n",
    "plt.barh(feature[0:10], importance[np.argsort(-abs_importance)][0:10] )\n",
    "# plt.show()\n",
    "plt.savefig('Lasso_linear_regression.png')\n",
    "plt.show()"
   ]
  },
  {
   "cell_type": "markdown",
   "metadata": {
    "id": "9sUbn92JVGAs"
   },
   "source": [
    "#### 版本三：類別變數做獨熱編碼、連續變數做標準化。"
   ]
  },
  {
   "cell_type": "code",
   "execution_count": null,
   "metadata": {
    "colab": {
     "base_uri": "https://localhost:8080/"
    },
    "id": "JKJ9eAqUVFFv",
    "outputId": "a9cee9fb-7952-4f1b-bff3-50bec6c582dd"
   },
   "outputs": [
    {
     "name": "stdout",
     "output_type": "stream",
     "text": [
      "intercept: 9.131286932029258\n",
      "coefficient: [ 0.00001504  0.0803673   0.07198192 -0.1152475  -0.02273779  0.01165607\n",
      "  0.03996067 -0.01084725 -0.0202489  -0.00660719  0.0005975   0.01077223\n",
      "  0.00878233 -0.00319384 -0.02221983  0.00413671 -0.06257021  0.10446748\n",
      " -0.02419833 -0.06779764 -0.01752312  0.00086506  0.06135433 -0.03859832\n",
      "  0.04134829  0.15037061  0.02234946  0.00520936  0.00763501 -0.0201324\n",
      " -0.00580289  0.02995468  0.00219738 -0.00369569  0.05363915  0.24641044\n",
      " -0.00479857  0.01771844  0.02527163  0.03658257  0.01494743 -0.00687944\n",
      " -0.00286354 -0.          0.00351448 -0.23277897 -0.71131723  0.14137683\n",
      "  0.11747938 -0.03994072 -0.22839126 -0.00628926 -0.07050249  0.12308026\n",
      "  0.02740407  0.14114051 -0.05193166 -0.09802632  0.19117378 -0.00588158\n",
      " -0.08338082 -0.31779336 -0.06292147  0.00576533 -0.3830549  -0.42109041\n",
      " -0.64244904 -0.4919676   0.1288711  -0.54243609 -0.31885217 -0.55967511\n",
      " -0.29689761  0.41562662  0.45828878  0.49910442  0.37666539  0.26941401\n",
      "  0.31993289  0.37567767  0.39463026  0.54764057  0.26073497  0.46933237\n",
      "  0.30223889  0.29934427  0.08160113 -0.02119689 -0.35974851 -0.03121973\n",
      " -0.00781769  0.03903742]\n",
      "R-squared of training set:  0.8821\n"
     ]
    }
   ],
   "source": [
    "from sklearn.linear_model import LinearRegression, Lasso, Ridge\n",
    "from sklearn.metrics import mean_absolute_error, mean_squared_error\n",
    "model = LinearRegression()\n",
    "# model = Lasso(alpha=0.005)\n",
    "# model = Ridge(alpha=0.05)\n",
    "model.fit(np.asarray(x_train_std), np.log(y_train))\n",
    "print('intercept:',model.intercept_)\n",
    "print('coefficient:',model.coef_)\n",
    "print(f'R-squared of training set: {model.score(np.asarray(x_train_std), np.log(y_train)): .4f}')"
   ]
  },
  {
   "cell_type": "code",
   "execution_count": null,
   "metadata": {
    "colab": {
     "base_uri": "https://localhost:8080/",
     "height": 444
    },
    "id": "kkIAFog6Ve3b",
    "outputId": "e6d61529-15e5-4148-8208-f6f891f56b21"
   },
   "outputs": [
    {
     "name": "stdout",
     "output_type": "stream",
     "text": [
      "MAE of testing set: 4215.688349240349\n",
      "RMSE of testing set: 8849.255623218225\n"
     ]
    },
    {
     "data": {
      "text/html": [
       "<div>\n",
       "<style scoped>\n",
       "    .dataframe tbody tr th:only-of-type {\n",
       "        vertical-align: middle;\n",
       "    }\n",
       "\n",
       "    .dataframe tbody tr th {\n",
       "        vertical-align: top;\n",
       "    }\n",
       "\n",
       "    .dataframe thead th {\n",
       "        text-align: right;\n",
       "    }\n",
       "</style>\n",
       "<table border=\"1\" class=\"dataframe\">\n",
       "  <thead>\n",
       "    <tr style=\"text-align: right;\">\n",
       "      <th></th>\n",
       "      <th>y_pred</th>\n",
       "      <th>y_true</th>\n",
       "    </tr>\n",
       "  </thead>\n",
       "  <tbody>\n",
       "    <tr>\n",
       "      <th>97205</th>\n",
       "      <td>23865.19</td>\n",
       "      <td>23500</td>\n",
       "    </tr>\n",
       "    <tr>\n",
       "      <th>674857</th>\n",
       "      <td>4564.61</td>\n",
       "      <td>5000</td>\n",
       "    </tr>\n",
       "    <tr>\n",
       "      <th>413487</th>\n",
       "      <td>6621.42</td>\n",
       "      <td>7000</td>\n",
       "    </tr>\n",
       "    <tr>\n",
       "      <th>104973</th>\n",
       "      <td>16068.82</td>\n",
       "      <td>14000</td>\n",
       "    </tr>\n",
       "    <tr>\n",
       "      <th>698905</th>\n",
       "      <td>28318.86</td>\n",
       "      <td>22000</td>\n",
       "    </tr>\n",
       "    <tr>\n",
       "      <th>...</th>\n",
       "      <td>...</td>\n",
       "      <td>...</td>\n",
       "    </tr>\n",
       "    <tr>\n",
       "      <th>109782</th>\n",
       "      <td>25476.40</td>\n",
       "      <td>26000</td>\n",
       "    </tr>\n",
       "    <tr>\n",
       "      <th>574194</th>\n",
       "      <td>19185.59</td>\n",
       "      <td>20000</td>\n",
       "    </tr>\n",
       "    <tr>\n",
       "      <th>524433</th>\n",
       "      <td>5739.94</td>\n",
       "      <td>5500</td>\n",
       "    </tr>\n",
       "    <tr>\n",
       "      <th>469983</th>\n",
       "      <td>7566.31</td>\n",
       "      <td>6000</td>\n",
       "    </tr>\n",
       "    <tr>\n",
       "      <th>569626</th>\n",
       "      <td>8766.39</td>\n",
       "      <td>7500</td>\n",
       "    </tr>\n",
       "  </tbody>\n",
       "</table>\n",
       "<p>131454 rows × 2 columns</p>\n",
       "</div>"
      ],
      "text/plain": [
       "         y_pred  y_true\n",
       "97205  23865.19   23500\n",
       "674857  4564.61    5000\n",
       "413487  6621.42    7000\n",
       "104973 16068.82   14000\n",
       "698905 28318.86   22000\n",
       "...         ...     ...\n",
       "109782 25476.40   26000\n",
       "574194 19185.59   20000\n",
       "524433  5739.94    5500\n",
       "469983  7566.31    6000\n",
       "569626  8766.39    7500\n",
       "\n",
       "[131454 rows x 2 columns]"
      ]
     },
     "execution_count": 133,
     "metadata": {
      "tags": []
     },
     "output_type": "execute_result"
    }
   ],
   "source": [
    "# x_test_std = scaler.transform(x_test)\n",
    "y_test_pred = model.predict(np.asarray(x_test_std))\n",
    "print(f'MAE of testing set: {mean_absolute_error(np.exp(y_test_pred), y_test)}')\n",
    "print(f'RMSE of testing set: {np.sqrt(mean_squared_error(np.exp(y_test_pred), y_test))}')\n",
    "y_compare = pd.DataFrame({'y_pred': np.exp(y_test_pred),'y_true': y_test})\n",
    "y_compare"
   ]
  },
  {
   "cell_type": "code",
   "execution_count": null,
   "metadata": {
    "id": "wNf9BI2cuqM9",
    "outputId": "547c1da1-01ce-4ebe-f5b6-8709bcb7edb3"
   },
   "outputs": [
    {
     "data": {
      "text/html": [
       "<div>\n",
       "<style scoped>\n",
       "    .dataframe tbody tr th:only-of-type {\n",
       "        vertical-align: middle;\n",
       "    }\n",
       "\n",
       "    .dataframe tbody tr th {\n",
       "        vertical-align: top;\n",
       "    }\n",
       "\n",
       "    .dataframe thead th {\n",
       "        text-align: right;\n",
       "    }\n",
       "</style>\n",
       "<table border=\"1\" class=\"dataframe\">\n",
       "  <thead>\n",
       "    <tr style=\"text-align: right;\">\n",
       "      <th></th>\n",
       "      <th>鄉鎮市區</th>\n",
       "      <th>押金月數</th>\n",
       "      <th>月管理費</th>\n",
       "      <th>提供車位？</th>\n",
       "      <th>建築類型</th>\n",
       "      <th>物件類型</th>\n",
       "      <th>自報頂加？</th>\n",
       "      <th>所在樓層</th>\n",
       "      <th>建物樓高</th>\n",
       "      <th>坪數</th>\n",
       "      <th>...</th>\n",
       "      <th>提供家具_電視？</th>\n",
       "      <th>提供家具_熱水器？</th>\n",
       "      <th>提供家具_冷氣？</th>\n",
       "      <th>提供家具_沙發？</th>\n",
       "      <th>提供家具_洗衣機？</th>\n",
       "      <th>提供家具_衣櫃？</th>\n",
       "      <th>提供家具_冰箱？</th>\n",
       "      <th>提供家具_網路？</th>\n",
       "      <th>提供家具_第四台？</th>\n",
       "      <th>提供家具_天然瓦斯？</th>\n",
       "    </tr>\n",
       "  </thead>\n",
       "  <tbody>\n",
       "    <tr>\n",
       "      <th>0</th>\n",
       "      <td>1111</td>\n",
       "      <td>2.00</td>\n",
       "      <td>0.00</td>\n",
       "      <td>0</td>\n",
       "      <td>0</td>\n",
       "      <td>0</td>\n",
       "      <td>0</td>\n",
       "      <td>3</td>\n",
       "      <td>4</td>\n",
       "      <td>23.30</td>\n",
       "      <td>...</td>\n",
       "      <td>0</td>\n",
       "      <td>1</td>\n",
       "      <td>1</td>\n",
       "      <td>0</td>\n",
       "      <td>0</td>\n",
       "      <td>1</td>\n",
       "      <td>0</td>\n",
       "      <td>0</td>\n",
       "      <td>0</td>\n",
       "      <td>0</td>\n",
       "    </tr>\n",
       "    <tr>\n",
       "      <th>1</th>\n",
       "      <td>1117</td>\n",
       "      <td>2.00</td>\n",
       "      <td>0.00</td>\n",
       "      <td>0</td>\n",
       "      <td>2</td>\n",
       "      <td>0</td>\n",
       "      <td>0</td>\n",
       "      <td>19</td>\n",
       "      <td>26</td>\n",
       "      <td>23.00</td>\n",
       "      <td>...</td>\n",
       "      <td>0</td>\n",
       "      <td>1</td>\n",
       "      <td>1</td>\n",
       "      <td>1</td>\n",
       "      <td>1</td>\n",
       "      <td>1</td>\n",
       "      <td>1</td>\n",
       "      <td>0</td>\n",
       "      <td>0</td>\n",
       "      <td>1</td>\n",
       "    </tr>\n",
       "    <tr>\n",
       "      <th>2</th>\n",
       "      <td>1700</td>\n",
       "      <td>0.00</td>\n",
       "      <td>0.00</td>\n",
       "      <td>0</td>\n",
       "      <td>2</td>\n",
       "      <td>2</td>\n",
       "      <td>0</td>\n",
       "      <td>7</td>\n",
       "      <td>8</td>\n",
       "      <td>9.00</td>\n",
       "      <td>...</td>\n",
       "      <td>1</td>\n",
       "      <td>1</td>\n",
       "      <td>1</td>\n",
       "      <td>1</td>\n",
       "      <td>1</td>\n",
       "      <td>1</td>\n",
       "      <td>1</td>\n",
       "      <td>0</td>\n",
       "      <td>1</td>\n",
       "      <td>1</td>\n",
       "    </tr>\n",
       "    <tr>\n",
       "      <th>3</th>\n",
       "      <td>1701</td>\n",
       "      <td>2.00</td>\n",
       "      <td>0.00</td>\n",
       "      <td>0</td>\n",
       "      <td>0</td>\n",
       "      <td>2</td>\n",
       "      <td>0</td>\n",
       "      <td>3</td>\n",
       "      <td>5</td>\n",
       "      <td>6.00</td>\n",
       "      <td>...</td>\n",
       "      <td>1</td>\n",
       "      <td>1</td>\n",
       "      <td>1</td>\n",
       "      <td>1</td>\n",
       "      <td>1</td>\n",
       "      <td>1</td>\n",
       "      <td>1</td>\n",
       "      <td>1</td>\n",
       "      <td>0</td>\n",
       "      <td>0</td>\n",
       "    </tr>\n",
       "    <tr>\n",
       "      <th>4</th>\n",
       "      <td>1111</td>\n",
       "      <td>2.00</td>\n",
       "      <td>0.00</td>\n",
       "      <td>0</td>\n",
       "      <td>2</td>\n",
       "      <td>0</td>\n",
       "      <td>0</td>\n",
       "      <td>7</td>\n",
       "      <td>9</td>\n",
       "      <td>24.29</td>\n",
       "      <td>...</td>\n",
       "      <td>0</td>\n",
       "      <td>1</td>\n",
       "      <td>1</td>\n",
       "      <td>1</td>\n",
       "      <td>1</td>\n",
       "      <td>1</td>\n",
       "      <td>1</td>\n",
       "      <td>0</td>\n",
       "      <td>0</td>\n",
       "      <td>1</td>\n",
       "    </tr>\n",
       "    <tr>\n",
       "      <th>...</th>\n",
       "      <td>...</td>\n",
       "      <td>...</td>\n",
       "      <td>...</td>\n",
       "      <td>...</td>\n",
       "      <td>...</td>\n",
       "      <td>...</td>\n",
       "      <td>...</td>\n",
       "      <td>...</td>\n",
       "      <td>...</td>\n",
       "      <td>...</td>\n",
       "      <td>...</td>\n",
       "      <td>...</td>\n",
       "      <td>...</td>\n",
       "      <td>...</td>\n",
       "      <td>...</td>\n",
       "      <td>...</td>\n",
       "      <td>...</td>\n",
       "      <td>...</td>\n",
       "      <td>...</td>\n",
       "      <td>...</td>\n",
       "      <td>...</td>\n",
       "    </tr>\n",
       "    <tr>\n",
       "      <th>394354</th>\n",
       "      <td>1114</td>\n",
       "      <td>2.00</td>\n",
       "      <td>0.00</td>\n",
       "      <td>0</td>\n",
       "      <td>0</td>\n",
       "      <td>0</td>\n",
       "      <td>0</td>\n",
       "      <td>3</td>\n",
       "      <td>5</td>\n",
       "      <td>36.30</td>\n",
       "      <td>...</td>\n",
       "      <td>0</td>\n",
       "      <td>0</td>\n",
       "      <td>0</td>\n",
       "      <td>0</td>\n",
       "      <td>0</td>\n",
       "      <td>0</td>\n",
       "      <td>0</td>\n",
       "      <td>0</td>\n",
       "      <td>0</td>\n",
       "      <td>0</td>\n",
       "    </tr>\n",
       "    <tr>\n",
       "      <th>394355</th>\n",
       "      <td>1700</td>\n",
       "      <td>2.00</td>\n",
       "      <td>0.00</td>\n",
       "      <td>0</td>\n",
       "      <td>2</td>\n",
       "      <td>1</td>\n",
       "      <td>0</td>\n",
       "      <td>6</td>\n",
       "      <td>14</td>\n",
       "      <td>24.92</td>\n",
       "      <td>...</td>\n",
       "      <td>1</td>\n",
       "      <td>1</td>\n",
       "      <td>1</td>\n",
       "      <td>1</td>\n",
       "      <td>1</td>\n",
       "      <td>1</td>\n",
       "      <td>1</td>\n",
       "      <td>1</td>\n",
       "      <td>1</td>\n",
       "      <td>0</td>\n",
       "    </tr>\n",
       "    <tr>\n",
       "      <th>394356</th>\n",
       "      <td>1708</td>\n",
       "      <td>2.00</td>\n",
       "      <td>0.00</td>\n",
       "      <td>0</td>\n",
       "      <td>0</td>\n",
       "      <td>0</td>\n",
       "      <td>0</td>\n",
       "      <td>4</td>\n",
       "      <td>4</td>\n",
       "      <td>17.00</td>\n",
       "      <td>...</td>\n",
       "      <td>1</td>\n",
       "      <td>1</td>\n",
       "      <td>1</td>\n",
       "      <td>1</td>\n",
       "      <td>1</td>\n",
       "      <td>1</td>\n",
       "      <td>1</td>\n",
       "      <td>1</td>\n",
       "      <td>1</td>\n",
       "      <td>0</td>\n",
       "    </tr>\n",
       "    <tr>\n",
       "      <th>394357</th>\n",
       "      <td>1111</td>\n",
       "      <td>2.00</td>\n",
       "      <td>1277.00</td>\n",
       "      <td>0</td>\n",
       "      <td>2</td>\n",
       "      <td>0</td>\n",
       "      <td>0</td>\n",
       "      <td>8</td>\n",
       "      <td>13</td>\n",
       "      <td>13.44</td>\n",
       "      <td>...</td>\n",
       "      <td>1</td>\n",
       "      <td>1</td>\n",
       "      <td>1</td>\n",
       "      <td>1</td>\n",
       "      <td>1</td>\n",
       "      <td>1</td>\n",
       "      <td>1</td>\n",
       "      <td>0</td>\n",
       "      <td>0</td>\n",
       "      <td>0</td>\n",
       "    </tr>\n",
       "    <tr>\n",
       "      <th>394358</th>\n",
       "      <td>1100</td>\n",
       "      <td>2.00</td>\n",
       "      <td>0.00</td>\n",
       "      <td>0</td>\n",
       "      <td>2</td>\n",
       "      <td>0</td>\n",
       "      <td>0</td>\n",
       "      <td>3</td>\n",
       "      <td>7</td>\n",
       "      <td>40.00</td>\n",
       "      <td>...</td>\n",
       "      <td>0</td>\n",
       "      <td>0</td>\n",
       "      <td>0</td>\n",
       "      <td>0</td>\n",
       "      <td>0</td>\n",
       "      <td>0</td>\n",
       "      <td>0</td>\n",
       "      <td>0</td>\n",
       "      <td>0</td>\n",
       "      <td>1</td>\n",
       "    </tr>\n",
       "  </tbody>\n",
       "</table>\n",
       "<p>394359 rows × 48 columns</p>\n",
       "</div>"
      ],
      "text/plain": [
       "        鄉鎮市區  押金月數    月管理費  提供車位？  建築類型  物件類型  自報頂加？  所在樓層  建物樓高    坪數  ...  \\\n",
       "0       1111  2.00    0.00      0     0     0      0     3     4 23.30  ...   \n",
       "1       1117  2.00    0.00      0     2     0      0    19    26 23.00  ...   \n",
       "2       1700  0.00    0.00      0     2     2      0     7     8  9.00  ...   \n",
       "3       1701  2.00    0.00      0     0     2      0     3     5  6.00  ...   \n",
       "4       1111  2.00    0.00      0     2     0      0     7     9 24.29  ...   \n",
       "...      ...   ...     ...    ...   ...   ...    ...   ...   ...   ...  ...   \n",
       "394354  1114  2.00    0.00      0     0     0      0     3     5 36.30  ...   \n",
       "394355  1700  2.00    0.00      0     2     1      0     6    14 24.92  ...   \n",
       "394356  1708  2.00    0.00      0     0     0      0     4     4 17.00  ...   \n",
       "394357  1111  2.00 1277.00      0     2     0      0     8    13 13.44  ...   \n",
       "394358  1100  2.00    0.00      0     2     0      0     3     7 40.00  ...   \n",
       "\n",
       "        提供家具_電視？  提供家具_熱水器？  提供家具_冷氣？  提供家具_沙發？  提供家具_洗衣機？  提供家具_衣櫃？  \\\n",
       "0              0          1         1         0          0         1   \n",
       "1              0          1         1         1          1         1   \n",
       "2              1          1         1         1          1         1   \n",
       "3              1          1         1         1          1         1   \n",
       "4              0          1         1         1          1         1   \n",
       "...          ...        ...       ...       ...        ...       ...   \n",
       "394354         0          0         0         0          0         0   \n",
       "394355         1          1         1         1          1         1   \n",
       "394356         1          1         1         1          1         1   \n",
       "394357         1          1         1         1          1         1   \n",
       "394358         0          0         0         0          0         0   \n",
       "\n",
       "        提供家具_冰箱？  提供家具_網路？  提供家具_第四台？  提供家具_天然瓦斯？  \n",
       "0              0         0          0           0  \n",
       "1              1         0          0           1  \n",
       "2              1         0          1           1  \n",
       "3              1         1          0           0  \n",
       "4              1         0          0           1  \n",
       "...          ...       ...        ...         ...  \n",
       "394354         0         0          0           0  \n",
       "394355         1         1          1           0  \n",
       "394356         1         1          1           0  \n",
       "394357         1         0          0           0  \n",
       "394358         0         0          0           1  \n",
       "\n",
       "[394359 rows x 48 columns]"
      ]
     },
     "execution_count": 134,
     "metadata": {
      "tags": []
     },
     "output_type": "execute_result"
    }
   ],
   "source": [
    "x_train"
   ]
  },
  {
   "cell_type": "markdown",
   "metadata": {
    "id": "i-EgnEdWy0cc"
   },
   "source": [
    "### Regression Tree"
   ]
  },
  {
   "cell_type": "code",
   "execution_count": null,
   "metadata": {
    "colab": {
     "base_uri": "https://localhost:8080/"
    },
    "id": "4CRiiLV9yz0B",
    "outputId": "32699694-274d-44af-b2c6-da6258517fee"
   },
   "outputs": [
    {
     "name": "stdout",
     "output_type": "stream",
     "text": [
      "feature importances: [0.17406645 0.00043752 0.06481387 0.00097833 0.01677648 0.00142102\n",
      " 0.00020468 0.00619685 0.01564726 0.68271343 0.00154452 0.00733472\n",
      " 0.00347232 0.00337996 0.00077601 0.00035753 0.00012849 0.00017107\n",
      " 0.00007948 0.00009594 0.         0.00029469 0.00007173 0.\n",
      " 0.00022057 0.         0.00040449 0.00026009 0.00003176 0.\n",
      " 0.00005421 0.         0.00050955 0.00020909 0.00124742 0.\n",
      " 0.         0.00012721 0.00760866 0.00008089 0.00010368 0.00156304\n",
      " 0.00052346 0.00020102 0.00110213 0.0003144  0.00022101 0.00425497]\n",
      "R-squared of training set:  0.8980\n"
     ]
    }
   ],
   "source": [
    "from sklearn.tree import DecisionTreeRegressor\n",
    "regressor = DecisionTreeRegressor(random_state=0, max_leaf_nodes=1000, max_depth=20)\n",
    "regressor.fit(np.asarray(x_train), y_train)\n",
    "y_test_pred = regressor.predict(np.asarray(x_test))\n",
    "print('feature importances:',regressor.feature_importances_)\n",
    "# print('coefficient:',regressor.coef_)\n",
    "print(f'R-squared of training set: {regressor.score(np.asarray(x_train), y_train): .4f}')\n",
    "# R-squared of training set:  0.8953"
   ]
  },
  {
   "cell_type": "code",
   "execution_count": null,
   "metadata": {
    "colab": {
     "base_uri": "https://localhost:8080/",
     "height": 444
    },
    "id": "inNQNPYFNCjb",
    "outputId": "20c06813-0e0b-405a-ec6c-71d7b5402e89"
   },
   "outputs": [
    {
     "name": "stdout",
     "output_type": "stream",
     "text": [
      "MAE of testing set: 3919.9235265031284\n",
      "RMSE of testing set: 6599.729732926424\n",
      "feature: ['坪數', '鄉鎮市區', '月管理費', '建築類型', '建物樓高', '提供家具_電視？', '衛浴數', '所在樓層', '提供家具_天然瓦斯？', '房數', '客廳數', '提供家具_沙發？', '陽台數', '物件類型', '刊登者類型', '提供家具_冰箱？', '提供車位？', '額外費用_電費？', '提供家具_洗衣機？', '可炊？', '押金月數', '附近的捷運站數', '額外費用_水費？', '提供家具_網路？', '附近有_百貨公司？', '附近的公車站數', '提供家具_第四台？', '附近有_夜市？', '可寵？', '自報頂加？', '提供家具_衣櫃？', '額外費用_網路？', '額外費用_瓦斯？', '提供家具_椅子？', '提供家具_冷氣？', '附近有_學校？', '提供家具_熱水器？', '額外費用_第四台？', '附近有_超商？', '附近的公共自行車數（實驗中）', '附近的火車站數', '提供家具_床？', '有性別限制？', '附近的高鐵站數', '附近有_醫療機構？', '附近有_公園？', '提供家具_桌子？', '附近有_傳統市場？']\n",
      "feature coef: [0.68271343 0.17406645 0.06481387 0.01677648 0.01564726 0.00760866\n",
      " 0.00733472 0.00619685 0.00425497 0.00347232 0.00337996 0.00156304\n",
      " 0.00154452 0.00142102 0.00124742 0.00110213 0.00097833 0.00077601\n",
      " 0.00052346 0.00050955 0.00043752 0.00040449 0.00035753 0.0003144\n",
      " 0.00029469 0.00026009 0.00022101 0.00022057 0.00020909 0.00020468\n",
      " 0.00020102 0.00017107 0.00012849 0.00012721 0.00010368 0.00009594\n",
      " 0.00008089 0.00007948 0.00007173 0.00005421 0.00003176 0.\n",
      " 0.         0.         0.         0.         0.         0.        ]\n"
     ]
    }
   ],
   "source": [
    "from sklearn.metrics import mean_absolute_error\n",
    "from sklearn.metrics import mean_squared_error\n",
    "\n",
    "importance = regressor.feature_importances_\n",
    "abs_importance = abs(importance)\n",
    "feature_name = list(x_train.columns.copy())\n",
    "feature = []\n",
    "for i in list(np.argsort(-abs_importance)):\n",
    "    feature.append(str(feature_name[i]))\n",
    "\n",
    "print(f'MAE of testing set: {mean_absolute_error(y_test_pred, y_test)}')\n",
    "print(f'RMSE of testing set: {np.sqrt(mean_squared_error(y_test_pred, y_test))}')\n",
    "# print(\"20 feature:\",feature_name[np.argsort(-abs_importance)])\n",
    "print(\"feature:\",feature)\n",
    "print(\"feature coef:\",importance[np.argsort(-abs_importance)])\n",
    "# y_compare = pd.DataFrame({'y_pred': y_test_pred,'y_true': y_test})\n",
    "# y_compare\n",
    "# MAE of testing set: 4134.918780308802\n",
    "# RMSE of testing set: 6975.262487108715"
   ]
  },
  {
   "cell_type": "code",
   "execution_count": null,
   "metadata": {
    "id": "sFD0IoRjsh6K",
    "outputId": "bb23d634-ef3f-483b-fb72-2d30f9280ce9"
   },
   "outputs": [
    {
     "data": {
      "image/png": "[encoded data removed]",
      "text/plain": [
       "<Figure size 360x720 with 1 Axes>"
      ]
     },
     "metadata": {
      "needs_background": "light",
      "tags": []
     },
     "output_type": "display_data"
    }
   ],
   "source": [
    "from matplotlib.font_manager import FontProperties\n",
    "import matplotlib.pyplot as plt\n",
    "plt.rcParams['font.sans-serif'] = ['Microsoft JhengHei'] \n",
    "plt.rcParams['axes.unicode_minus'] = False\n",
    "plt.figure(figsize=(5,10))\n",
    "plt.title(\"DecisionTreeRegressor\")\n",
    "#plt.barh(list(x_train.columns), clf.coef_ )\n",
    "\n",
    "plt.barh(feature[0:20],importance[np.argsort(-abs_importance)][0:20])\n",
    "# plt.show()\n",
    "plt.savefig('DecisionTreeRegressor.png')\n",
    "plt.show()"
   ]
  },
  {
   "cell_type": "code",
   "execution_count": null,
   "metadata": {
    "colab": {
     "base_uri": "https://localhost:8080/"
    },
    "id": "LECbdaf8iWVa",
    "outputId": "6af44cfa-18b1-4329-db46-ab898c79dc70"
   },
   "outputs": [
    {
     "data": {
      "text/plain": [
       "1000"
      ]
     },
     "execution_count": 138,
     "metadata": {
      "tags": []
     },
     "output_type": "execute_result"
    }
   ],
   "source": [
    "regressor.tree_\n",
    "regressor.get_depth()\n",
    "regressor.get_n_leaves()\n",
    "# regressor.get_params()"
   ]
  },
  {
   "cell_type": "markdown",
   "metadata": {
    "id": "obAXcyFcsh6L"
   },
   "source": [
    "### GBDT"
   ]
  },
  {
   "cell_type": "code",
   "execution_count": null,
   "metadata": {
    "id": "VGBf2ZM-sh6M"
   },
   "outputs": [],
   "source": [
    "from sklearn.ensemble import GradientBoostingRegressor\n",
    "from sklearn.metrics import mean_absolute_error\n",
    "from sklearn.metrics import mean_squared_error\n",
    "\n",
    "gbdt = GradientBoostingRegressor(learning_rate=0.5,n_estimators=300,random_state=0)\n",
    "gbdt.fit(np.asarray(x_train), np.array(y_train,dtype=int))\n",
    "y_test_pred = gbdt.predict(np.asarray(x_test))"
   ]
  },
  {
   "cell_type": "code",
   "execution_count": null,
   "metadata": {
    "id": "lcePEQyVsh6M",
    "outputId": "f40effca-60eb-427c-daa8-fd5ec34e127a"
   },
   "outputs": [
    {
     "name": "stdout",
     "output_type": "stream",
     "text": [
      "learningrate 0.5\n",
      "n_estimators 300\n",
      "MAE of testing set: 3511.8484606755255\n",
      "RMSE of testing set: 5983.886652965397\n",
      "feature: ['坪數', '鄉鎮市區', '月管理費', '衛浴數', '建築類型', '提供車位？', '提供家具_電視？', '建物樓高', '刊登者類型', '客廳數', '所在樓層', '提供家具_沙發？', '房數', '物件類型', '附近的捷運站數', '提供家具_冰箱？', '附近有_百貨公司？', '陽台數', '提供家具_天然瓦斯？', '提供家具_冷氣？', '自報頂加？', '額外費用_電費？', '提供家具_熱水器？', '可寵？', '附近的公車站數', '押金月數', '附近有_夜市？', '額外費用_網路？', '提供家具_洗衣機？', '額外費用_水費？', '提供家具_衣櫃？', '可炊？', '附近的火車站數', '提供家具_床？', '附近有_傳統市場？', '有性別限制？', '附近有_公園？', '提供家具_網路？', '提供家具_椅子？', '附近有_醫療機構？', '提供家具_桌子？', '提供家具_第四台？', '附近有_學校？', '額外費用_瓦斯？', '附近的公共自行車數（實驗中）', '額外費用_第四台？', '附近有_超商？', '附近的高鐵站數']\n",
      "feature coef: [0.56531636 0.16801317 0.15772154 0.0375798  0.01374843 0.01246695\n",
      " 0.00853844 0.00835916 0.00535538 0.00359401 0.00315679 0.00303784\n",
      " 0.00286276 0.0018303  0.00144121 0.0010248  0.0008279  0.00069087\n",
      " 0.00051318 0.00037323 0.00036352 0.00033573 0.00030715 0.00029526\n",
      " 0.00025107 0.00024652 0.0002307  0.00020996 0.00019099 0.00016687\n",
      " 0.0001103  0.00010994 0.00010193 0.00009845 0.00008723 0.00006713\n",
      " 0.00006522 0.00006448 0.00004882 0.00004363 0.00003606 0.00003077\n",
      " 0.00002516 0.00001919 0.00001818 0.00001382 0.00000981 0.        ]\n"
     ]
    }
   ],
   "source": [
    "from sklearn.metrics import mean_absolute_error\n",
    "from sklearn.metrics import mean_squared_error\n",
    "\n",
    "importance = gbdt.feature_importances_\n",
    "abs_importance = abs(importance)\n",
    "feature_name = list(x_train.columns.copy())\n",
    "feature = []\n",
    "for i in list(np.argsort(-abs_importance)):\n",
    "    feature.append(feature_name[i])\n",
    "\n",
    "print(\"learningrate\",0.5)\n",
    "print(\"n_estimators\",300)\n",
    "print(f'MAE of testing set: {mean_absolute_error(y_test_pred, y_test)}')\n",
    "print(f'RMSE of testing set: {np.sqrt(mean_squared_error(y_test_pred, y_test))}')\n",
    "# print(\"20 feature:\",feature_name[np.argsort(-abs_importance)])\n",
    "print(\"feature:\",feature)\n",
    "print(\"feature coef:\",importance[np.argsort(-abs_importance)])"
   ]
  },
  {
   "cell_type": "code",
   "execution_count": null,
   "metadata": {
    "id": "Z7YzELw_sh6M",
    "outputId": "2910a93e-5418-472c-9879-99a5c279487d"
   },
   "outputs": [
    {
     "data": {
      "image/png": "[encoded data removed]",
      "text/plain": [
       "<Figure size 360x720 with 1 Axes>"
      ]
     },
     "metadata": {
      "needs_background": "light",
      "tags": []
     },
     "output_type": "display_data"
    }
   ],
   "source": [
    "from matplotlib.font_manager import FontProperties\n",
    "import matplotlib.pyplot as plt\n",
    "plt.rcParams['font.sans-serif'] = ['Microsoft JhengHei'] \n",
    "plt.rcParams['axes.unicode_minus'] = False\n",
    "plt.figure(figsize=(5,10))\n",
    "plt.title(\"GBDT\")\n",
    "#plt.barh(list(x_train.columns), clf.coef_ )\n",
    "\n",
    "plt.barh(feature[0:20],importance[np.argsort(-abs_importance)][0:20])\n",
    "# plt.show()\n",
    "plt.savefig('GBDT.png')\n",
    "plt.show()"
   ]
  },
  {
   "cell_type": "markdown",
   "metadata": {
    "id": "lj89mzrjsh6N"
   },
   "source": [
    "### RandomForest  - x_train"
   ]
  },
  {
   "cell_type": "code",
   "execution_count": null,
   "metadata": {
    "id": "mCaIKTKdsh6N",
    "outputId": "37d72072-245e-4878-c11c-7edbd348209b"
   },
   "outputs": [
    {
     "name": "stdout",
     "output_type": "stream",
     "text": [
      "MAE of testing set: 2172.17210525394\n",
      "RMSE of testing set: 4250.750538088175\n"
     ]
    }
   ],
   "source": [
    "from sklearn.ensemble import RandomForestRegressor\n",
    "from sklearn.metrics import mean_absolute_error, mean_squared_error\n",
    "\n",
    "RandomForest = RandomForestRegressor(n_estimators=500,max_depth=40, random_state=0)\n",
    "RandomForest.fit(x_train,y_train)\n",
    "ypred = RandomForest.predict(x_test)\n",
    "print(f'MAE of testing set: {mean_absolute_error(ypred, y_test)}')\n",
    "print(f'RMSE of testing set: {np.sqrt(mean_squared_error(ypred, y_test))}')\n",
    "\n",
    "# MAE of testing set: 2190.1869955871816\n",
    "# RMSE of testing set: 4384.933576251044"
   ]
  },
  {
   "cell_type": "code",
   "execution_count": null,
   "metadata": {
    "id": "R6Q1NMETsh6N",
    "outputId": "2cfa555d-c779-41a9-c40f-2da7d3fd36f3"
   },
   "outputs": [
    {
     "name": "stdout",
     "output_type": "stream",
     "text": [
      "learningrate 0.5\n",
      "n_estimators 300\n",
      "MAE of testing set: 2172.17210525394\n",
      "RMSE of testing set: 4250.750538088175\n",
      "feature: ['坪數', '鄉鎮市區', '月管理費', '建物樓高', '所在樓層', '建築類型', '衛浴數', '提供家具_電視？', '房數', '提供家具_天然瓦斯？', '陽台數', '客廳數', '刊登者類型', '附近的捷運站數', '附近的公車站數', '提供車位？', '提供家具_沙發？', '提供家具_冰箱？', '可寵？', '押金月數', '物件類型', '附近有_百貨公司？', '提供家具_洗衣機？', '附近有_夜市？', '提供家具_衣櫃？', '附近有_醫療機構？', '附近有_傳統市場？', '可炊？', '提供家具_床？', '提供家具_椅子？', '附近的火車站數', '提供家具_熱水器？', '提供家具_冷氣？', '提供家具_網路？', '額外費用_電費？', '附近有_學校？', '提供家具_第四台？', '附近有_公園？', '提供家具_桌子？', '附近有_超商？', '額外費用_水費？', '額外費用_網路？', '額外費用_第四台？', '額外費用_瓦斯？', '自報頂加？', '附近的公共自行車數（實驗中）', '有性別限制？', '附近的高鐵站數']\n",
      "feature coef: [0.6291363  0.16670316 0.06619121 0.02376419 0.01641567 0.01564459\n",
      " 0.00850342 0.00702034 0.00659976 0.00521719 0.00513675 0.00467317\n",
      " 0.00339713 0.00312451 0.00288719 0.0025908  0.00237745 0.00219653\n",
      " 0.00176499 0.00171708 0.00166984 0.001504   0.0014646  0.00123623\n",
      " 0.00123317 0.00119741 0.00113298 0.00110414 0.00105036 0.00103041\n",
      " 0.00097754 0.00097562 0.00095737 0.00094037 0.00091669 0.00090396\n",
      " 0.00087686 0.00083587 0.00081932 0.00077521 0.00075497 0.00068595\n",
      " 0.00058726 0.00042917 0.00040729 0.00027292 0.00019908 0.        ]\n"
     ]
    }
   ],
   "source": [
    "from sklearn.metrics import mean_absolute_error\n",
    "from sklearn.metrics import mean_squared_error\n",
    "\n",
    "importance = RandomForest.feature_importances_\n",
    "abs_importance = abs(importance)\n",
    "feature_name = list(x_train.columns.copy())\n",
    "feature = []\n",
    "for i in list(np.argsort(-abs_importance)):\n",
    "    feature.append(feature_name[i])\n",
    "\n",
    "print(\"learningrate\",0.5)\n",
    "print(\"n_estimators\",300)\n",
    "print(f'MAE of testing set: {mean_absolute_error(ypred, y_test)}')\n",
    "print(f'RMSE of testing set: {np.sqrt(mean_squared_error(ypred, y_test))}')\n",
    "# print(\"20 feature:\",feature_name[np.argsort(-abs_importance)])\n",
    "print(\"feature:\",feature)\n",
    "print(\"feature coef:\",importance[np.argsort(-abs_importance)])\n",
    "\n",
    "# MAE of testing set: 2190.1869955871816\n",
    "# RMSE of testing set: 4384.933576251044"
   ]
  },
  {
   "cell_type": "code",
   "execution_count": null,
   "metadata": {
    "id": "hWeulBpxsh6N",
    "outputId": "04c1b562-22ab-4773-f2ee-06c96833e910"
   },
   "outputs": [
    {
     "data": {
      "image/png": "[encoded data removed]",
      "text/plain": [
       "<Figure size 360x720 with 1 Axes>"
      ]
     },
     "metadata": {
      "needs_background": "light",
      "tags": []
     },
     "output_type": "display_data"
    }
   ],
   "source": [
    "from matplotlib.font_manager import FontProperties\n",
    "import matplotlib.pyplot as plt\n",
    "plt.rcParams['font.sans-serif'] = ['Microsoft JhengHei'] \n",
    "plt.rcParams['axes.unicode_minus'] = False\n",
    "plt.figure(figsize=(5,10))\n",
    "plt.title(\"RandomForest\")\n",
    "plt.barh(feature[0:20],importance[np.argsort(-abs_importance)][0:20])\n",
    "# plt.show()\n",
    "plt.savefig('RandomForest.png')\n",
    "plt.show()"
   ]
  },
  {
   "cell_type": "code",
   "execution_count": null,
   "metadata": {
    "id": "VwqjomK_uqNE"
   },
   "outputs": [],
   "source": [
    "# 45度線圖\n",
    "# 做出四種物件的x_test、y_test\n",
    "x_test_isuite = x_test.loc[isuite_index_test]\n",
    "x_test_dsuite = x_test.loc[dsuite_index_test]\n",
    "x_test_room = x_test.loc[room_index_test]\n",
    "x_test_floor = x_test.loc[floor_index_test]\n",
    "\n",
    "y_test_1 = y_test.reset_index(drop=True)\n",
    "y_test_isuite = y_test_1[isuite_index_test]\n",
    "y_test_dsuite = y_test_1[dsuite_index_test]\n",
    "y_test_room = y_test_1[room_index_test]\n",
    "y_test_floor = y_test_1[floor_index_test]\n",
    "\n",
    "y_test_pred_isuite = RandomForest.predict(np.asarray(x_test_isuite))\n",
    "y_test_pred_dsuite = RandomForest.predict(np.asarray(x_test_dsuite))\n",
    "y_test_pred_room = RandomForest.predict(np.asarray(x_test_room))\n",
    "y_test_pred_floor = RandomForest.predict(np.asarray(x_test_floor))\n",
    "\n",
    "# 繪圖\n",
    "plt.figure(figsize=(7,7))\n",
    "plt.scatter(y_test_isuite, y_test_pred_isuite, alpha=0.4, color='red', label=\"獨立套房\")\n",
    "plt.scatter(y_test_dsuite, y_test_pred_dsuite, alpha=0.3, color='blue', label=\"分租套房\")\n",
    "plt.scatter(y_test_room, y_test_pred_room, alpha=0.2, color='green', label=\"雅房\")\n",
    "plt.scatter(y_test_floor, y_test_pred_floor, alpha=0.1, color='yellow', label=\"整層住家\")\n",
    "plt.axline([min(y_test), min(y_test)], [max(y_test), max(y_test)], color='r')\n",
    "\n",
    "plt.xlim(min(y_test), max(y_test))\n",
    "plt.ylim(min(y_test), max(y_test))\n",
    "\n",
    "plt.xlabel(\"y_test\", fontsize=15)\n",
    "plt.ylabel(\"y_test_pred\", fontsize=15)\n",
    "plt.title(\"Random forest, Y vs Y-hat\", fontsize=15)\n",
    "plt.legend(fontsize=15)\n",
    "plt.show()"
   ]
  },
  {
   "cell_type": "markdown",
   "metadata": {
    "id": "KC8dEd3Hsh6N"
   },
   "source": [
    "### SVM"
   ]
  },
  {
   "cell_type": "code",
   "execution_count": null,
   "metadata": {
    "id": "_mq_T_r2sh6O",
    "outputId": "8fce7605-f7d6-4315-ac2f-9b67d8fe4021"
   },
   "outputs": [
    {
     "name": "stdout",
     "output_type": "stream",
     "text": [
      "MAE of testing set: 9246.407047768425\n",
      "RMSE of testing set: 16074.497977505058\n"
     ]
    },
    {
     "data": {
      "text/html": [
       "<div>\n",
       "<style scoped>\n",
       "    .dataframe tbody tr th:only-of-type {\n",
       "        vertical-align: middle;\n",
       "    }\n",
       "\n",
       "    .dataframe tbody tr th {\n",
       "        vertical-align: top;\n",
       "    }\n",
       "\n",
       "    .dataframe thead th {\n",
       "        text-align: right;\n",
       "    }\n",
       "</style>\n",
       "<table border=\"1\" class=\"dataframe\">\n",
       "  <thead>\n",
       "    <tr style=\"text-align: right;\">\n",
       "      <th></th>\n",
       "      <th>y_pred</th>\n",
       "      <th>y_true</th>\n",
       "    </tr>\n",
       "  </thead>\n",
       "  <tbody>\n",
       "    <tr>\n",
       "      <th>97205</th>\n",
       "      <td>26627.30</td>\n",
       "      <td>23500</td>\n",
       "    </tr>\n",
       "    <tr>\n",
       "      <th>674857</th>\n",
       "      <td>13008.05</td>\n",
       "      <td>5000</td>\n",
       "    </tr>\n",
       "    <tr>\n",
       "      <th>413487</th>\n",
       "      <td>13001.83</td>\n",
       "      <td>7000</td>\n",
       "    </tr>\n",
       "    <tr>\n",
       "      <th>104973</th>\n",
       "      <td>14591.74</td>\n",
       "      <td>14000</td>\n",
       "    </tr>\n",
       "    <tr>\n",
       "      <th>698905</th>\n",
       "      <td>22351.26</td>\n",
       "      <td>22000</td>\n",
       "    </tr>\n",
       "    <tr>\n",
       "      <th>...</th>\n",
       "      <td>...</td>\n",
       "      <td>...</td>\n",
       "    </tr>\n",
       "    <tr>\n",
       "      <th>109782</th>\n",
       "      <td>14547.39</td>\n",
       "      <td>26000</td>\n",
       "    </tr>\n",
       "    <tr>\n",
       "      <th>574194</th>\n",
       "      <td>13023.16</td>\n",
       "      <td>20000</td>\n",
       "    </tr>\n",
       "    <tr>\n",
       "      <th>524433</th>\n",
       "      <td>13001.43</td>\n",
       "      <td>5500</td>\n",
       "    </tr>\n",
       "    <tr>\n",
       "      <th>469983</th>\n",
       "      <td>13002.92</td>\n",
       "      <td>6000</td>\n",
       "    </tr>\n",
       "    <tr>\n",
       "      <th>569626</th>\n",
       "      <td>12994.04</td>\n",
       "      <td>7500</td>\n",
       "    </tr>\n",
       "  </tbody>\n",
       "</table>\n",
       "<p>131454 rows × 2 columns</p>\n",
       "</div>"
      ],
      "text/plain": [
       "         y_pred  y_true\n",
       "97205  26627.30   23500\n",
       "674857 13008.05    5000\n",
       "413487 13001.83    7000\n",
       "104973 14591.74   14000\n",
       "698905 22351.26   22000\n",
       "...         ...     ...\n",
       "109782 14547.39   26000\n",
       "574194 13023.16   20000\n",
       "524433 13001.43    5500\n",
       "469983 13002.92    6000\n",
       "569626 12994.04    7500\n",
       "\n",
       "[131454 rows x 2 columns]"
      ]
     },
     "execution_count": 68,
     "metadata": {
      "tags": []
     },
     "output_type": "execute_result"
    }
   ],
   "source": [
    "from sklearn import svm\n",
    "from sklearn.metrics import mean_absolute_error\n",
    "from sklearn.metrics import mean_squared_error\n",
    "regr = svm.SVR()\n",
    "regr.fit(x_train, y_train)\n",
    "\n",
    "y_test_pred = regr.predict(x_test)\n",
    "\n",
    "print(f'MAE of testing set: {mean_absolute_error(y_test_pred, y_test)}')\n",
    "print(f'RMSE of testing set: {np.sqrt(mean_squared_error(y_test_pred, y_test))}')\n",
    "y_compare = pd.DataFrame({'y_pred': y_test_pred,'y_true': y_test})\n",
    "y_compare\n",
    "#10900~11000多\n",
    "# MAE of testing set: 9208.624275746668\n",
    "# RMSE of testing set: 15995.26079452831"
   ]
  },
  {
   "cell_type": "markdown",
   "metadata": {
    "id": "5F6oxSvesh6O"
   },
   "source": [
    "### SGD Regressor"
   ]
  },
  {
   "cell_type": "code",
   "execution_count": null,
   "metadata": {
    "id": "XcTC2cNKsh6O",
    "outputId": "459d7ead-dd76-4b90-e81e-03e6d67c78b5"
   },
   "outputs": [
    {
     "name": "stdout",
     "output_type": "stream",
     "text": [
      "MAE of testing set: 5434.686987994416\n",
      "RMSE of testing set: 8942.29927991686\n"
     ]
    },
    {
     "data": {
      "text/html": [
       "<div>\n",
       "<style scoped>\n",
       "    .dataframe tbody tr th:only-of-type {\n",
       "        vertical-align: middle;\n",
       "    }\n",
       "\n",
       "    .dataframe tbody tr th {\n",
       "        vertical-align: top;\n",
       "    }\n",
       "\n",
       "    .dataframe thead th {\n",
       "        text-align: right;\n",
       "    }\n",
       "</style>\n",
       "<table border=\"1\" class=\"dataframe\">\n",
       "  <thead>\n",
       "    <tr style=\"text-align: right;\">\n",
       "      <th></th>\n",
       "      <th>y_pred</th>\n",
       "      <th>y_true</th>\n",
       "    </tr>\n",
       "  </thead>\n",
       "  <tbody>\n",
       "    <tr>\n",
       "      <th>97205</th>\n",
       "      <td>27389.47</td>\n",
       "      <td>23500</td>\n",
       "    </tr>\n",
       "    <tr>\n",
       "      <th>674857</th>\n",
       "      <td>3075.08</td>\n",
       "      <td>5000</td>\n",
       "    </tr>\n",
       "    <tr>\n",
       "      <th>413487</th>\n",
       "      <td>5079.13</td>\n",
       "      <td>7000</td>\n",
       "    </tr>\n",
       "    <tr>\n",
       "      <th>104973</th>\n",
       "      <td>17955.94</td>\n",
       "      <td>14000</td>\n",
       "    </tr>\n",
       "    <tr>\n",
       "      <th>698905</th>\n",
       "      <td>25799.66</td>\n",
       "      <td>22000</td>\n",
       "    </tr>\n",
       "    <tr>\n",
       "      <th>...</th>\n",
       "      <td>...</td>\n",
       "      <td>...</td>\n",
       "    </tr>\n",
       "    <tr>\n",
       "      <th>109782</th>\n",
       "      <td>22893.87</td>\n",
       "      <td>26000</td>\n",
       "    </tr>\n",
       "    <tr>\n",
       "      <th>574194</th>\n",
       "      <td>23624.55</td>\n",
       "      <td>20000</td>\n",
       "    </tr>\n",
       "    <tr>\n",
       "      <th>524433</th>\n",
       "      <td>14425.29</td>\n",
       "      <td>5500</td>\n",
       "    </tr>\n",
       "    <tr>\n",
       "      <th>469983</th>\n",
       "      <td>6843.76</td>\n",
       "      <td>6000</td>\n",
       "    </tr>\n",
       "    <tr>\n",
       "      <th>569626</th>\n",
       "      <td>2665.80</td>\n",
       "      <td>7500</td>\n",
       "    </tr>\n",
       "  </tbody>\n",
       "</table>\n",
       "<p>131454 rows × 2 columns</p>\n",
       "</div>"
      ],
      "text/plain": [
       "         y_pred  y_true\n",
       "97205  27389.47   23500\n",
       "674857  3075.08    5000\n",
       "413487  5079.13    7000\n",
       "104973 17955.94   14000\n",
       "698905 25799.66   22000\n",
       "...         ...     ...\n",
       "109782 22893.87   26000\n",
       "574194 23624.55   20000\n",
       "524433 14425.29    5500\n",
       "469983  6843.76    6000\n",
       "569626  2665.80    7500\n",
       "\n",
       "[131454 rows x 2 columns]"
      ]
     },
     "execution_count": 67,
     "metadata": {
      "tags": []
     },
     "output_type": "execute_result"
    }
   ],
   "source": [
    "import numpy as np\n",
    "from sklearn.linear_model import SGDRegressor\n",
    "from sklearn.pipeline import make_pipeline\n",
    "from sklearn.preprocessing import StandardScaler\n",
    "from sklearn.metrics import mean_absolute_error\n",
    "from sklearn.metrics import mean_squared_error\n",
    "# Always scale the input. The most convenient way is to use a pipeline.\n",
    "SGD = make_pipeline(StandardScaler(),\n",
    "                    SGDRegressor(max_iter=4000, tol=1e-6))\n",
    "SGD.fit(x_train, y_train)\n",
    "\n",
    "y_test_pred = SGD.predict(x_test)\n",
    "\n",
    "print(f'MAE of testing set: {mean_absolute_error(y_test_pred, y_test)}')\n",
    "print(f'RMSE of testing set: {np.sqrt(mean_squared_error(y_test_pred, y_test))}')\n",
    "y_compare = pd.DataFrame({'y_pred': y_test_pred,'y_true': y_test})\n",
    "y_compare\n",
    "# MAE of testing set: 5631.368049121293\n",
    "# RMSE of testing set: 9072.167479636231"
   ]
  },
  {
   "cell_type": "markdown",
   "metadata": {
    "id": "RW9NHjilsh6O"
   },
   "source": [
    "### Stacking"
   ]
  },
  {
   "cell_type": "code",
   "execution_count": null,
   "metadata": {
    "id": "9IojTMk9sh6O",
    "outputId": "850e2d9e-208d-4c2d-d763-9406e3184e25"
   },
   "outputs": [
    {
     "name": "stdout",
     "output_type": "stream",
     "text": [
      "MAE of testing set: 3751.5288584833256\n",
      "RMSE of testing set: 6286.727278201863\n"
     ]
    }
   ],
   "source": [
    "from sklearn.linear_model import RidgeCV\n",
    "from sklearn.ensemble import RandomForestRegressor\n",
    "from sklearn.ensemble import StackingRegressor\n",
    "from sklearn.metrics import mean_absolute_error\n",
    "from sklearn.metrics import mean_squared_error\n",
    "from sklearn.tree import DecisionTreeRegressor\n",
    "\n",
    "estimators = [\n",
    "    ('gbdt', GradientBoostingRegressor(learning_rate=0.5,n_estimators=300,random_state=0)),\n",
    "    ('DecisionTree', DecisionTreeRegressor(random_state=0, max_leaf_nodes=1000, max_depth=20))\n",
    "]\n",
    "stack = StackingRegressor(\n",
    "    estimators=estimators,\n",
    "    final_estimator=RandomForestRegressor(n_estimators=500,max_depth=400, random_state=0)\n",
    ")\n",
    "stack.fit(x_train, y_train).score(x_test, y_test)\n",
    "\n",
    "ypred = stack.predict(x_test)\n",
    "print(f'MAE of testing set: {mean_absolute_error(ypred, y_test)}')\n",
    "print(f'RMSE of testing set: {np.sqrt(mean_squared_error(ypred, y_test))}')\n",
    "\n",
    "# MAE of testing set: 3781.9756252476686\n",
    "# RMSE of testing set: 6370.388475594114"
   ]
  },
  {
   "cell_type": "code",
   "execution_count": null,
   "metadata": {
    "id": "vLQ7vue-uqNH",
    "outputId": "1ae72add-3203-4501-c48d-5c58127c1198"
   },
   "outputs": [
    {
     "name": "stdout",
     "output_type": "stream",
     "text": [
      "MAE of testing set: 2359.7154011526254\n",
      "RMSE of testing set: 4420.554970502002\n"
     ]
    }
   ],
   "source": [
    "from sklearn.linear_model import RidgeCV\n",
    "from sklearn.ensemble import RandomForestRegressor\n",
    "from sklearn.ensemble import StackingRegressor\n",
    "from sklearn.metrics import mean_absolute_error\n",
    "from sklearn.metrics import mean_squared_error\n",
    "from sklearn.tree import DecisionTreeRegressor\n",
    "\n",
    "estimators = [\n",
    "    ('gbdt', GradientBoostingRegressor(learning_rate=0.5,n_estimators=300,random_state=0)),\n",
    "    ('DecisionTree', DecisionTreeRegressor(random_state=0, max_leaf_nodes=1000, max_depth=20)),\n",
    "    ('RandomForestRegressor',RandomForestRegressor(n_estimators=500,max_depth=400, random_state=0))\n",
    "]\n",
    "stack = StackingRegressor(\n",
    "    estimators=estimators,\n",
    "    final_estimator=RandomForestRegressor(n_estimators=500,max_depth=400, random_state=0)\n",
    ")\n",
    "stack.fit(x_train, y_train).score(x_test, y_test)\n",
    "\n",
    "ypred = stack.predict(x_test)\n",
    "print(f'MAE of testing set: {mean_absolute_error(ypred, y_test)}')\n",
    "print(f'RMSE of testing set: {np.sqrt(mean_squared_error(ypred, y_test))}')\n",
    "\n",
    "# MAE of testing set: 2359.7154011526254\n",
    "# RMSE of testing set: 4420.554970502002"
   ]
  },
  {
   "cell_type": "markdown",
   "metadata": {
    "id": "adRF1dagsh6P"
   },
   "source": [
    "### 測試集的不同類別(套房/雅房/整層等)物件各跑一次MAE個別評估結果"
   ]
  },
  {
   "cell_type": "markdown",
   "metadata": {
    "id": "sCraR-yIsh6P"
   },
   "source": [
    "#### (1)取獨立套房的資料"
   ]
  },
  {
   "cell_type": "code",
   "execution_count": null,
   "metadata": {
    "id": "TnENABTKsh6P",
    "outputId": "08af3652-f8b5-4b28-bcea-e06dde665a2a"
   },
   "outputs": [
    {
     "name": "stdout",
     "output_type": "stream",
     "text": [
      "共有0筆資料是非獨立套房、分租套房、雅房又是空值的，所以先刪了\n",
      "共有0筆資料房數是0的，所以先刪了\n",
      "共有0筆資料衛浴數是0的，所以先刪了\n"
     ]
    },
    {
     "name": "stderr",
     "output_type": "stream",
     "text": [
      "<ipython-input-28-f01f67baec05>:80: FutureWarning: elementwise comparison failed; returning scalar instead, but in the future will perform elementwise comparison\n",
      "  if '-' in x.values:\n"
     ]
    }
   ],
   "source": [
    "df_test = df2.copy()\n",
    "df_test = df_test.loc[(df_test['物件類型']==1)]\n",
    "df_test_x = df_test[features].copy()\n",
    "df_test_y = df_test['月租金']\n",
    "\n",
    "df_test_x, df_test_y = preprocess(df_test_x, df_test_y)\n",
    "from sklearn.model_selection import train_test_split\n",
    "\n",
    "x_train_isuite, x_test_isuite, y_train_isuite, y_test_isuite = train_test_split( df_test_x, df_test_y, test_size=0.25, random_state=4)\n",
    "\n",
    "x_train_isuite = x_train_isuite.drop(['縣市', '重複物件數','需要管理費？'], axis = 1)\n",
    "x_test_isuite = x_test_isuite.drop(['縣市', '重複物件數','需要管理費？'], axis = 1)"
   ]
  },
  {
   "cell_type": "markdown",
   "metadata": {
    "id": "k7Zk7sadsh6P"
   },
   "source": [
    "#### (2)取分租套房的資料"
   ]
  },
  {
   "cell_type": "code",
   "execution_count": null,
   "metadata": {
    "id": "My9FxBgtsh6P",
    "outputId": "9a6c8004-73d9-43bb-89d7-af118ee6f1f2"
   },
   "outputs": [
    {
     "name": "stdout",
     "output_type": "stream",
     "text": [
      "共有0筆資料是非獨立套房、分租套房、雅房又是空值的，所以先刪了\n",
      "共有0筆資料房數是0的，所以先刪了\n",
      "共有0筆資料衛浴數是0的，所以先刪了\n",
      "(54946, 48)\n",
      "(18316, 48)\n"
     ]
    },
    {
     "name": "stderr",
     "output_type": "stream",
     "text": [
      "<ipython-input-28-f01f67baec05>:80: FutureWarning: elementwise comparison failed; returning scalar instead, but in the future will perform elementwise comparison\n",
      "  if '-' in x.values:\n"
     ]
    }
   ],
   "source": [
    "df_test = df2.copy()\n",
    "df_test = df_test.loc[(df_test['物件類型']==2)]\n",
    "df_test_x = df_test[features].copy()\n",
    "df_test_y = df_test['月租金']\n",
    "df_test_x, df_test_y = preprocess(df_test_x, df_test_y)\n",
    "from sklearn.model_selection import train_test_split\n",
    "\n",
    "x_train_dsuite, x_test_dsuite, y_train_dsuite, y_test_dsuite = train_test_split( df_test_x, df_test_y, test_size=0.25, random_state=4)\n",
    "\n",
    "x_train_dsuite = x_train_dsuite.drop(['縣市', '重複物件數','需要管理費？'], axis = 1)\n",
    "x_test_dsuite = x_test_dsuite.drop(['縣市', '重複物件數','需要管理費？'], axis = 1)\n",
    "\n",
    "print(x_train_dsuite.shape)\n",
    "print(x_test_dsuite.shape)"
   ]
  },
  {
   "cell_type": "markdown",
   "metadata": {
    "id": "1tHmnj3dsh6Q"
   },
   "source": [
    "#### (3)取雅房的資料"
   ]
  },
  {
   "cell_type": "code",
   "execution_count": null,
   "metadata": {
    "id": "AwPgRarush6Q",
    "outputId": "614254da-9248-4691-e920-c3e73170290a"
   },
   "outputs": [
    {
     "name": "stdout",
     "output_type": "stream",
     "text": [
      "共有0筆資料是非獨立套房、分租套房、雅房又是空值的，所以先刪了\n",
      "共有0筆資料房數是0的，所以先刪了\n",
      "共有0筆資料衛浴數是0的，所以先刪了\n",
      "(21754, 48)\n",
      "(7252, 48)\n"
     ]
    },
    {
     "name": "stderr",
     "output_type": "stream",
     "text": [
      "<ipython-input-28-f01f67baec05>:80: FutureWarning: elementwise comparison failed; returning scalar instead, but in the future will perform elementwise comparison\n",
      "  if '-' in x.values:\n"
     ]
    }
   ],
   "source": [
    "df_test = df2.copy()\n",
    "df_test = df_test.loc[(df_test['物件類型']==3)]\n",
    "df_test_x = df_test[features].copy()\n",
    "df_test_y = df_test['月租金']\n",
    "df_test_x, df_test_y = preprocess(df_test_x, df_test_y)\n",
    "from sklearn.model_selection import train_test_split\n",
    "\n",
    "x_train_room, x_test_room, y_train_room, y_test_room = train_test_split( df_test_x, df_test_y, test_size=0.25, random_state=4)\n",
    "\n",
    "x_train_room = x_train_room.drop(['縣市', '重複物件數','需要管理費？'], axis = 1)\n",
    "x_test_room = x_test_room.drop(['縣市', '重複物件數','需要管理費？'], axis = 1)\n",
    "\n",
    "print(x_train_room.shape)\n",
    "print(x_test_room.shape)"
   ]
  },
  {
   "cell_type": "markdown",
   "metadata": {
    "id": "zeZIn3_nsh6Q"
   },
   "source": [
    "#### (4)取整層住家的資料"
   ]
  },
  {
   "cell_type": "code",
   "execution_count": null,
   "metadata": {
    "id": "ARCuU6Klsh6Q",
    "outputId": "deee06f7-e7ab-4f1a-b840-68464ff5956e"
   },
   "outputs": [
    {
     "name": "stdout",
     "output_type": "stream",
     "text": [
      "共有48筆資料是非獨立套房、分租套房、雅房又是空值的，所以先刪了\n",
      "共有4144筆資料房數是0的，所以先刪了\n",
      "共有310筆資料衛浴數是0的，所以先刪了\n",
      "(191382, 48)\n",
      "(63794, 48)\n"
     ]
    },
    {
     "name": "stderr",
     "output_type": "stream",
     "text": [
      "<ipython-input-28-f01f67baec05>:80: FutureWarning: elementwise comparison failed; returning scalar instead, but in the future will perform elementwise comparison\n",
      "  if '-' in x.values:\n"
     ]
    }
   ],
   "source": [
    "df_test = df2.copy()\n",
    "df_test = df_test.loc[(df_test['物件類型']==0)]\n",
    "df_test_x = df_test[features].copy()\n",
    "df_test_y = df_test['月租金']\n",
    "df_test_x, df_test_y = preprocess(df_test_x, df_test_y)\n",
    "\n",
    "from sklearn.model_selection import train_test_split\n",
    "\n",
    "x_train_floor, x_test_floor, y_train_floor, y_test_floor = train_test_split( df_test_x, df_test_y, test_size=0.25, random_state=4)\n",
    "\n",
    "x_train_floor = x_train_floor.drop(['縣市', '重複物件數','需要管理費？'], axis = 1)\n",
    "x_test_floor = x_test_floor.drop(['縣市', '重複物件數','需要管理費？'], axis = 1)\n",
    "\n",
    "\n",
    "print(x_train_floor.shape)\n",
    "print(x_test_floor.shape)\n"
   ]
  },
  {
   "cell_type": "markdown",
   "metadata": {
    "id": "MulIPfV_sh6Q"
   },
   "source": [
    "### 分開 predict model"
   ]
  },
  {
   "cell_type": "markdown",
   "metadata": {
    "id": "h5ydNX7Rsh6Q"
   },
   "source": [
    "#### (1) RandomForest"
   ]
  },
  {
   "cell_type": "code",
   "execution_count": null,
   "metadata": {
    "id": "m8gM9uJfsh6Q",
    "outputId": "e5c12524-2190-41b5-ee8d-9ed58c7c81c1"
   },
   "outputs": [
    {
     "name": "stdout",
     "output_type": "stream",
     "text": [
      "獨立套房 MAE of testing set: 1373.301114155991\n",
      "獨立套房 RMSE of testing set: 2334.70121285854\n",
      "\n",
      "分租套房 MAE of testing set: 1071.3115245969018\n",
      "分租套房 RMSE of testing set: 1986.8929179134543\n",
      "\n",
      "雅房 MAE of testing set: 802.3474349725365\n",
      "雅房 RMSE of testing set: 1526.1812590950747\n",
      "\n",
      "整層住家 MAE of testing set: 3122.503363266859\n",
      "整層住家 RMSE of testing set: 5598.64649898067\n"
     ]
    }
   ],
   "source": [
    "from sklearn.ensemble import RandomForestRegressor\n",
    "from sklearn.metrics import mean_absolute_error, mean_squared_error\n",
    "\n",
    "RandomForest1 = RandomForestRegressor(n_estimators=500,max_depth=40, random_state=0)\n",
    "RandomForest1.fit(x_train_isuite,y_train_isuite)\n",
    "ypred = RandomForest1.predict(x_test_isuite)\n",
    "print(f'獨立套房 MAE of testing set: {mean_absolute_error(ypred, y_test_isuite)}')\n",
    "print(f'獨立套房 RMSE of testing set: {np.sqrt(mean_squared_error(ypred, y_test_isuite))}')\n",
    "print()\n",
    "\n",
    "RandomForest2 = RandomForestRegressor(n_estimators=500,max_depth=40, random_state=0)\n",
    "RandomForest2.fit(x_train_dsuite,y_train_dsuite)\n",
    "ypred = RandomForest2.predict(x_test_dsuite)\n",
    "print(f'分租套房 MAE of testing set: {mean_absolute_error(ypred, y_test_dsuite)}')\n",
    "print(f'分租套房 RMSE of testing set: {np.sqrt(mean_squared_error(ypred, y_test_dsuite))}')\n",
    "print()\n",
    "\n",
    "RandomForest3 = RandomForestRegressor(n_estimators=500,max_depth=40, random_state=0)\n",
    "RandomForest3.fit(x_train_room,y_train_room)\n",
    "ypred = RandomForest3.predict(x_test_room)\n",
    "print(f'雅房 MAE of testing set: {mean_absolute_error(ypred, y_test_room)}')\n",
    "print(f'雅房 RMSE of testing set: {np.sqrt(mean_squared_error(ypred, y_test_room))}')\n",
    "print()\n",
    "\n",
    "RandomForest4 = RandomForestRegressor(n_estimators=500,max_depth=40, random_state=0)\n",
    "RandomForest4.fit(x_train_floor,y_train_floor)\n",
    "ypred = RandomForest4.predict(x_test_floor)\n",
    "print(f'整層住家 MAE of testing set: {mean_absolute_error(ypred, y_test_floor)}')\n",
    "print(f'整層住家 RMSE of testing set: {np.sqrt(mean_squared_error(ypred, y_test_floor))}')\n"
   ]
  },
  {
   "cell_type": "markdown",
   "metadata": {
    "id": "m49oXKjesh6R"
   },
   "source": [
    "#### (2) GBDT"
   ]
  },
  {
   "cell_type": "code",
   "execution_count": null,
   "metadata": {
    "id": "dayZkCbnsh6R",
    "outputId": "35b72346-a534-4e7f-9320-5a336b23415c"
   },
   "outputs": [
    {
     "name": "stdout",
     "output_type": "stream",
     "text": [
      "獨立套房 MAE of testing set: 1966.164148520179\n",
      "獨立套房 RMSE of testing set: 2921.105489387327\n",
      "\n",
      "分租套房 MAE of testing set: 1476.0930670748876\n",
      "分租套房 RMSE of testing set: 2333.1382786416034\n",
      "\n",
      "雅房 MAE of testing set: 1082.475865183091\n",
      "雅房 RMSE of testing set: 1759.646229167903\n",
      "\n",
      "整層住家 MAE of testing set: 5010.385083084188\n",
      "整層住家 RMSE of testing set: 7850.281439691422\n"
     ]
    }
   ],
   "source": [
    "from sklearn.ensemble import GradientBoostingRegressor\n",
    "from sklearn.metrics import mean_absolute_error\n",
    "from sklearn.metrics import mean_squared_error\n",
    "\n",
    "gbdt1 = GradientBoostingRegressor(learning_rate=0.5,n_estimators=300,random_state=0)\n",
    "gbdt1.fit(np.asarray(x_train_isuite), np.array(y_train_isuite,dtype=int))\n",
    "ypred = gbdt1.predict(np.asarray(x_test_isuite))\n",
    "print(f'獨立套房 MAE of testing set: {mean_absolute_error(ypred, y_test_isuite)}')\n",
    "print(f'獨立套房 RMSE of testing set: {np.sqrt(mean_squared_error(ypred, y_test_isuite))}')\n",
    "print()\n",
    "\n",
    "gbdt2 = GradientBoostingRegressor(learning_rate=0.5,n_estimators=300,random_state=0)\n",
    "gbdt2.fit(np.asarray(x_train_dsuite), np.array(y_train_dsuite,dtype=int))\n",
    "ypred = gbdt2.predict(np.asarray(x_test_dsuite))\n",
    "print(f'分租套房 MAE of testing set: {mean_absolute_error(ypred, y_test_dsuite)}')\n",
    "print(f'分租套房 RMSE of testing set: {np.sqrt(mean_squared_error(ypred, y_test_dsuite))}')\n",
    "print()\n",
    "\n",
    "gbdt3 = GradientBoostingRegressor(learning_rate=0.5,n_estimators=300,random_state=0)\n",
    "gbdt3.fit(np.asarray(x_train_room), np.array(y_train_room,dtype=int))\n",
    "ypred = gbdt3.predict(np.asarray(x_test_room))\n",
    "print(f'雅房 MAE of testing set: {mean_absolute_error(ypred, y_test_room)}')\n",
    "print(f'雅房 RMSE of testing set: {np.sqrt(mean_squared_error(ypred, y_test_room))}')\n",
    "print()\n",
    "\n",
    "gbdt4 = GradientBoostingRegressor(learning_rate=0.5,n_estimators=300,random_state=0)\n",
    "gbdt4.fit(np.asarray(x_train_floor), np.array(y_train_floor,dtype=int))\n",
    "ypred = gbdt4.predict(np.asarray(x_test_floor))\n",
    "print(f'整層住家 MAE of testing set: {mean_absolute_error(ypred, y_test_floor)}')\n",
    "print(f'整層住家 RMSE of testing set: {np.sqrt(mean_squared_error(ypred, y_test_floor))}')\n",
    "\n",
    "# 獨立套房 MAE of testing set: 2228.258273977195\n",
    "# 獨立套房 RMSE of testing set: 3279.274880866625\n",
    "\n",
    "# 分租套房 MAE of testing set: 1735.6281226920128\n",
    "# 分租套房 RMSE of testing set: 2690.752461395302\n",
    "\n",
    "# 雅房 MAE of testing set: 1521.7064469184386\n",
    "# 雅房 RMSE of testing set: 2170.163019910545\n",
    "\n",
    "# 整層住家 MAE of testing set: 5238.822439047376\n",
    "# 整層住家 RMSE of testing set: 8418.7813352285"
   ]
  },
  {
   "cell_type": "markdown",
   "metadata": {
    "id": "U94j9D-rsh6R"
   },
   "source": [
    "#### (3) Decision tree "
   ]
  },
  {
   "cell_type": "code",
   "execution_count": null,
   "metadata": {
    "id": "-6c8gaZksh6R",
    "outputId": "60385267-852b-48e7-a607-906badae86d4"
   },
   "outputs": [
    {
     "name": "stdout",
     "output_type": "stream",
     "text": [
      "獨立套房 MAE of testing set: 2131.953173154521\n",
      "獨立套房 RMSE of testing set: 3284.003874557041\n",
      "\n",
      "分租套房 MAE of testing set: 1600.4671013627535\n",
      "分租套房 RMSE of testing set: 2657.2857498946364\n",
      "\n",
      "雅房 MAE of testing set: 1175.1370814201011\n",
      "雅房 RMSE of testing set: 2004.4892345574926\n",
      "\n",
      "整層住家 MAE of testing set: 5583.076168707064\n",
      "整層住家 RMSE of testing set: 8629.827434388397\n"
     ]
    }
   ],
   "source": [
    "from sklearn.tree import DecisionTreeRegressor\n",
    "regressor1 = DecisionTreeRegressor(random_state=0, max_leaf_nodes=1000, max_depth=20)\n",
    "regressor1.fit(np.asarray(x_train_isuite), y_train_isuite)\n",
    "ypred = regressor1.predict(np.asarray(x_test_isuite))\n",
    "print(f'獨立套房 MAE of testing set: {mean_absolute_error(ypred, y_test_isuite)}')\n",
    "print(f'獨立套房 RMSE of testing set: {np.sqrt(mean_squared_error(ypred, y_test_isuite))}')\n",
    "print()\n",
    "\n",
    "regressor2 = DecisionTreeRegressor(random_state=0, max_leaf_nodes=1000, max_depth=20)\n",
    "regressor2.fit(np.asarray(x_train_dsuite), y_train_dsuite)\n",
    "ypred = regressor2.predict(np.asarray(x_test_dsuite))\n",
    "print(f'分租套房 MAE of testing set: {mean_absolute_error(ypred, y_test_dsuite)}')\n",
    "print(f'分租套房 RMSE of testing set: {np.sqrt(mean_squared_error(ypred, y_test_dsuite))}')\n",
    "print()\n",
    "\n",
    "regressor3 = DecisionTreeRegressor(random_state=0, max_leaf_nodes=1000, max_depth=20)\n",
    "regressor3.fit(np.asarray(x_train_room), y_train_room)\n",
    "ypred = regressor3.predict(np.asarray(x_test_room))\n",
    "print(f'雅房 MAE of testing set: {mean_absolute_error(ypred, y_test_room)}')\n",
    "print(f'雅房 RMSE of testing set: {np.sqrt(mean_squared_error(ypred, y_test_room))}')\n",
    "print()\n",
    "\n",
    "regressor4 = DecisionTreeRegressor(random_state=0, max_leaf_nodes=1000, max_depth=20)\n",
    "regressor4.fit(np.asarray(x_train_floor), y_train_floor)\n",
    "ypred = regressor4.predict(np.asarray(x_test_floor))\n",
    "print(f'整層住家 MAE of testing set: {mean_absolute_error(ypred, y_test_floor)}')\n",
    "print(f'整層住家 RMSE of testing set: {np.sqrt(mean_squared_error(ypred, y_test_floor))}')\n",
    "\n",
    "# 獨立套房 MAE of testing set: 2532.696599537837\n",
    "# 獨立套房 RMSE of testing set: 3719.2403688707777\n",
    "\n",
    "# 分租套房 MAE of testing set: 1896.3720492687366\n",
    "# 分租套房 RMSE of testing set: 2837.1603821358012\n",
    "\n",
    "# 雅房 MAE of testing set: 1692.7866770392511\n",
    "# 雅房 RMSE of testing set: 2631.832753744811\n",
    "\n",
    "# 整層住家 MAE of testing set: 6008.1963630324535\n",
    "# 整層住家 RMSE of testing set: 9694.452996412705"
   ]
  },
  {
   "cell_type": "markdown",
   "metadata": {
    "id": "H6OWnEs7sh6R"
   },
   "source": [
    "#### (4) Stacking"
   ]
  },
  {
   "cell_type": "code",
   "execution_count": null,
   "metadata": {
    "id": "uN0faoussh6S",
    "outputId": "d3c57089-e67a-4fff-bc51-14f5e30cb334",
    "scrolled": true
   },
   "outputs": [
    {
     "name": "stdout",
     "output_type": "stream",
     "text": [
      "獨立套房 MAE of testing set: 1490.5684007508394\n",
      "獨立套房 RMSE of testing set: 2432.4516919252005\n",
      "\n",
      "分租套房 MAE of testing set: 1156.0967167648412\n",
      "分租套房 RMSE of testing set: 2094.9939609312983\n",
      "\n",
      "雅房 MAE of testing set: 885.6089709264957\n",
      "雅房 RMSE of testing set: 1635.331230837897\n",
      "\n",
      "整層住家 MAE of testing set: 3399.298185696834\n",
      "整層住家 RMSE of testing set: 5856.393718690391\n"
     ]
    }
   ],
   "source": [
    "from sklearn.linear_model import RidgeCV\n",
    "from sklearn.ensemble import GradientBoostingRegressor\n",
    "from sklearn.ensemble import RandomForestRegressor\n",
    "from sklearn.ensemble import StackingRegressor\n",
    "from sklearn.metrics import mean_absolute_error\n",
    "from sklearn.metrics import mean_squared_error\n",
    "from sklearn.tree import DecisionTreeRegressor\n",
    "\n",
    "estimators = [\n",
    "    ('gbdt', GradientBoostingRegressor(learning_rate=0.5,n_estimators=300,random_state=0)),\n",
    "    ('DecisionTree', DecisionTreeRegressor(random_state=0, max_leaf_nodes=1000, max_depth=20)),\n",
    "    ('RandomForest',RandomForestRegressor(n_estimators=500,max_depth=400, random_state=0))\n",
    "]\n",
    "stack1 = StackingRegressor(\n",
    "    estimators=estimators,\n",
    "    final_estimator=RandomForestRegressor(n_estimators=500,max_depth=400, random_state=0)\n",
    ")\n",
    "stack1.fit(x_train_isuite, y_train_isuite).score(x_test_isuite, y_test_isuite)\n",
    "ypred = stack1.predict(x_test_isuite)\n",
    "print(f'獨立套房 MAE of testing set: {mean_absolute_error(ypred, y_test_isuite)}')\n",
    "print(f'獨立套房 RMSE of testing set: {np.sqrt(mean_squared_error(ypred, y_test_isuite))}')\n",
    "print()\n",
    "\n",
    "stack2 = StackingRegressor(\n",
    "    estimators=estimators,\n",
    "    final_estimator=RandomForestRegressor(n_estimators=500,max_depth=400, random_state=0)\n",
    ")\n",
    "stack2.fit(x_train_dsuite, y_train_dsuite).score(x_test_dsuite, y_test_dsuite)\n",
    "ypred = stack2.predict(x_test_dsuite)\n",
    "print(f'分租套房 MAE of testing set: {mean_absolute_error(ypred, y_test_dsuite)}')\n",
    "print(f'分租套房 RMSE of testing set: {np.sqrt(mean_squared_error(ypred, y_test_dsuite))}')\n",
    "print()\n",
    "\n",
    "stack3 = StackingRegressor(\n",
    "    estimators=estimators,\n",
    "    final_estimator=RandomForestRegressor(n_estimators=500,max_depth=400, random_state=0)\n",
    ")\n",
    "stack3.fit(x_train_room, y_train_room).score(x_test_room, y_test_room)\n",
    "ypred = stack3.predict(x_test_room)\n",
    "print(f'雅房 MAE of testing set: {mean_absolute_error(ypred, y_test_room)}')\n",
    "print(f'雅房 RMSE of testing set: {np.sqrt(mean_squared_error(ypred, y_test_room))}')\n",
    "print()\n",
    "\n",
    "stack4 = StackingRegressor(\n",
    "    estimators=estimators,\n",
    "    final_estimator=RandomForestRegressor(n_estimators=500,max_depth=400, random_state=0)\n",
    ")\n",
    "stack4.fit(x_train_floor, y_train_floor).score(x_test_floor, y_test_floor)\n",
    "ypred = stack4.predict(x_test_floor)\n",
    "print(f'整層住家 MAE of testing set: {mean_absolute_error(ypred, y_test_floor)}')\n",
    "print(f'整層住家 RMSE of testing set: {np.sqrt(mean_squared_error(ypred, y_test_floor))}')\n",
    "\n",
    "\n",
    "# 獨立套房 MAE of testing set: 2152.3282446689186\n",
    "# 獨立套房 RMSE of testing set: 3249.0279399443484\n",
    "\n",
    "# 分租套房 MAE of testing set: 1597.4550338319723\n",
    "# 分租套房 RMSE of testing set: 2524.2556031438844\n",
    "\n",
    "# 雅房 MAE of testing set: 1164.2565409378433\n",
    "# 雅房 RMSE of testing set: 1881.4469498313533\n",
    "\n",
    "# 整層住家 MAE of testing set: 5347.039173330033\n",
    "# 整層住家 RMSE of testing set: 8207.296364421618"
   ]
  },
  {
   "cell_type": "markdown",
   "metadata": {
    "id": "af1zr6di2oMB"
   },
   "source": [
    "### 中位數(baseline)的MAE與RMSE"
   ]
  },
  {
   "cell_type": "code",
   "execution_count": null,
   "metadata": {
    "id": "_zL5I2rNuqNQ"
   },
   "outputs": [],
   "source": [
    "df_baseline = pd.concat([x_train[['物件類型']], y_train], axis = 1)\n",
    "baseline = df_baseline.groupby('物件類型').median()\n",
    "baseline\n",
    "x_test.loc[x_test['物件類型'] == 0, '預測值'] = 20000 #補個baseline_y_pred值，要改\n",
    "x_test.loc[x_test['物件類型'] == 1, '預測值'] = 20499\n",
    "x_test.loc[x_test['物件類型'] == 2, '預測值'] = 20999\n",
    "x_test.loc[x_test['物件類型'] == 3, '預測值'] = 20500\n",
    "baseline_y_pred = x_test[['預測值']]\n",
    "\n",
    "x_test = x_test.drop(['預測值'], axis = 1)"
   ]
  },
  {
   "cell_type": "code",
   "execution_count": null,
   "metadata": {
    "id": "ebLuwChUuqNR",
    "outputId": "71f68657-001b-4559-8ba7-731bd9a30d72"
   },
   "outputs": [
    {
     "name": "stdout",
     "output_type": "stream",
     "text": [
      "MAE of testing set: 12500.499855462747\n",
      "RMSE of testing set: 19020.946336109053\n"
     ]
    }
   ],
   "source": [
    "from sklearn.metrics import mean_absolute_error\n",
    "from sklearn.metrics import mean_squared_error\n",
    "\n",
    "print(f'MAE of testing set: {mean_absolute_error(baseline_y_pred, y_test)}')\n",
    "print(f'RMSE of testing set: {np.sqrt(mean_squared_error(baseline_y_pred, y_test))}')\n"
   ]
  }
 ],
 "metadata": {
  "accelerator": "TPU",
  "colab": {
   "collapsed_sections": [],
   "name": "統深期末報告_U質同學_1230晚版本九.ipynb",
   "provenance": [],
   "toc_visible": true
  },
  "kernelspec": {
   "display_name": "Python 3",
   "language": "python",
   "name": "python3"
  },
  "language_info": {
   "codemirror_mode": {
    "name": "ipython",
    "version": 3
   },
   "file_extension": ".py",
   "mimetype": "text/x-python",
   "name": "python",
   "nbconvert_exporter": "python",
   "pygments_lexer": "ipython3",
   "version": "3.7.4"
  }
 },
 "nbformat": 4,
 "nbformat_minor": 1
}
